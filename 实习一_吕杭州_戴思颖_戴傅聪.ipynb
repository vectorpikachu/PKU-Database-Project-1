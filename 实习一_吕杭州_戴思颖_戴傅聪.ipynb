{
 "cells": [
  {
   "cell_type": "markdown",
   "id": "af3410a6",
   "metadata": {},
   "source": [
    "# 实习一：数据库应用案例设计\n",
    "吕杭州 2200013126, 戴思颖 2200094811, 戴傅聪 2100013061\n",
    "\n",
    "本次实习的目标是设计咸鱼数据库，包括罗列业务需求、设计ER图、设计数据表结构、用SQL语句实现业务功能和使用Flask进行前端web页面开发。"
   ]
  },
  {
   "cell_type": "markdown",
   "id": "bf4d2753",
   "metadata": {},
   "source": [
    "## 步骤一：罗列业务需求\n",
    "\n",
    "1. **商品交易**：用户发布二手商品信息，其他用户可以浏览、购买\n",
    "2. **用户管理**：用户注册、登录、个人信息管理，用户信用\n",
    "3. **消息系统**：买卖双方沟通\n",
    "4. **订单管理**：交易订单的创建、支付、发货、确认收货\n",
    "5. **收藏功能**：用户收藏感兴趣的商品"
   ]
  },
  {
   "cell_type": "markdown",
   "id": "c41d848b",
   "metadata": {},
   "source": [
    "## 步骤二：数据库设计\n",
    "\n",
    "### 数据库实体与联系设计\n",
    "\n",
    "#### 主要实体\n",
    "\n",
    "1. **用户(User)**\n",
    "   - user_id 用户ID\n",
    "   - username 用户名\n",
    "   - password_hash 密码哈希值\n",
    "   - phone 手机号\n",
    "   - email 电子邮箱\n",
    "   - credit_score 信用分\n",
    "   - registration_date 注册日期\n",
    "   - last_login 最后登录时间\n",
    "   - status 状态 (active活跃/banned封禁)\n",
    "\n",
    "2. **商品(Product)**\n",
    "   - product_id 商品ID\n",
    "   - seller_id (FK → User) 卖家ID\n",
    "   - title 商品标题\n",
    "   - description 商品描述\n",
    "   - price 售价\n",
    "   - original_price 原价\n",
    "   - condition 商品状况 (new全新/like new几乎全新/good良好/fair一般/poor较差)\n",
    "   - location 所在地\n",
    "   - post_date 发布时间\n",
    "   - status 状态 (available可售/reserved已预订/sold已售出/removed已下架)\n",
    "   - view_count 浏览数\n",
    "   - fav_count  收藏数量\n",
    "\n",
    "3. **订单(Order)**\n",
    "   - order_id 订单ID\n",
    "   - product_id (FK → Product) 商品ID\n",
    "   - buyer_id (FK → User) 买家ID\n",
    "   - seller_id (FK → User) 卖家ID\n",
    "   - order_date 订单日期\n",
    "   - price 成交价格\n",
    "   - status 状态 (pending待付款/paid已付款/shipped已发货/completed已完成/cancelled已取消)\n",
    "   - payment_method 支付方式\n",
    "   - shipping_address 收货地址\n",
    "   - tracking_number 物流单号\n",
    "\n",
    "4. **消息(Message)** \n",
    "   - message_id 消息ID\n",
    "   - sender_id (FK → User) 发送者ID\n",
    "   - receiver_id (FK → User) 接收者ID\n",
    "   - product_id (FK → Product, nullable) 关联商品ID（可为空）\n",
    "   - content 消息内容\n",
    "   - send_time 发送时间\n",
    "   - is_read 是否已读\n",
    "\n",
    "5. **收藏(Favorite)** \n",
    "   - favorite_id  收藏ID\n",
    "   - user_id (FK → User) 用户ID\n",
    "   - product_id (FK → Product) 商品ID\n",
    "   - add_date 收藏日期\n",
    "\n",
    "#### 主要关系\n",
    "\n",
    "1. **用户-商品**：一对多（一个用户可以发布多个商品）\n",
    "2. **用户-订单**：一对多（一个用户可以有多个订单作为买家或卖家）\n",
    "3. **商品-订单**：一对一（一个商品只能对应一个有效订单）\n",
    "4. **用户-消息**：一对多（一个用户可以发送/接收多条消息）\n",
    "5. **用户-收藏**：多对多（通过Favorite实体实现）\n",
    "\n",
    "### ER图设计\n",
    "\n",
    "![ER图](fig/ER_diagram.png)"
   ]
  },
  {
   "cell_type": "markdown",
   "id": "bf8e4d7b",
   "metadata": {},
   "source": [
    "## 步骤三：创建数据库"
   ]
  },
  {
   "cell_type": "code",
   "execution_count": 1,
   "id": "ba837ba6",
   "metadata": {},
   "outputs": [],
   "source": [
    "import sqlite3\n",
    "import random\n",
    "import hashlib\n",
    "from datetime import datetime\n",
    "import faker\n",
    "\n",
    "fake = faker.Faker()\n",
    "\n",
    "# 连接到 xianyu 数据库\n",
    "conn = sqlite3.connect('xianyu.db')\n",
    "cursor = conn.cursor()"
   ]
  },
  {
   "cell_type": "code",
   "execution_count": 2,
   "id": "916b12db",
   "metadata": {},
   "outputs": [],
   "source": [
    "# 打印指定表的结构（字段信息）\n",
    "def print_table_schema(table_name):\n",
    "    cursor.execute(f\"PRAGMA table_info({table_name});\")\n",
    "    columns = cursor.fetchall()\n",
    "\n",
    "    # 获取列的最大宽度\n",
    "    max_col_name_len = max(len(col[1]) for col in columns)\n",
    "    max_type_len = max(len(col[2]) for col in columns)\n",
    "\n",
    "    # 打印表头\n",
    "    print(f\"\\nTable {table_name}\\'s schema: \")\n",
    "    print(f\"{'Name'.ljust(max_col_name_len)} | {'Type'.ljust(max_type_len)} | Primary Key\")\n",
    "    print(\"-\" * (max_col_name_len + 3 + max_type_len + 3 + 4))\n",
    "\n",
    "    # 打印每一列的信息\n",
    "    for column in columns:\n",
    "        col_name = column[1]\n",
    "        col_type = column[2]\n",
    "        is_primary_key = \"Yes\" if column[5] else \"No\"\n",
    "        print(f\"{col_name.ljust(max_col_name_len)} | {col_type.ljust(max_type_len)} | {is_primary_key}\")"
   ]
  },
  {
   "cell_type": "code",
   "execution_count": 3,
   "id": "b015c889",
   "metadata": {},
   "outputs": [],
   "source": [
    "# 打印指定表的数据\n",
    "def print_table_data(table_name):\n",
    "    try:\n",
    "        cursor.execute(f\"SELECT * FROM {table_name}\")\n",
    "        rows = cursor.fetchall()\n",
    "        col_names = [desc[0] for desc in cursor.description]\n",
    "\n",
    "        # 计算每一列的最大宽度（包括字段名和每条记录）\n",
    "        col_widths = [len(name) for name in col_names]\n",
    "        for row in rows:\n",
    "            for i, value in enumerate(row):\n",
    "                col_widths[i] = max(col_widths[i], len(str(value)) if value is not None else 4)\n",
    "\n",
    "        # 打印表头\n",
    "        print(f\"\\nTable: {table_name}\")\n",
    "        print(\"-\" * (sum(col_widths) + 3 * len(col_widths)))\n",
    "        header = \" | \".join(name.ljust(col_widths[i]) for i, name in enumerate(col_names))\n",
    "        print(header)\n",
    "        print(\"-\" * (sum(col_widths) + 3 * len(col_widths)))\n",
    "\n",
    "        # 打印每一行数据\n",
    "        if rows:\n",
    "            for row in rows:\n",
    "                line = \" | \".join(\n",
    "                    (str(item) if item is not None else \"NULL\").ljust(col_widths[i])\n",
    "                    for i, item in enumerate(row)\n",
    "                )\n",
    "                print(line)\n",
    "        else:\n",
    "            print(\"(Empty Table)\")\n",
    "    except sqlite3.Error as e:\n",
    "        print(f\"Failed: {e}\")"
   ]
  },
  {
   "cell_type": "code",
   "execution_count": 4,
   "id": "df216b4c",
   "metadata": {},
   "outputs": [],
   "source": [
    "def empty_table(table_name):\n",
    "    try:\n",
    "        cursor.execute(f\"DELETE FROM {table_name}\")\n",
    "        cursor.execute(f\"DELETE FROM sqlite_sequence WHERE name='{table_name}'\")\n",
    "        conn.commit()\n",
    "        print(f\"Table {table_name} emptied successfully.\")\n",
    "    except sqlite3.Error as e:\n",
    "        print(f\"Failed to empty table {table_name}: {e}\")"
   ]
  },
  {
   "cell_type": "markdown",
   "id": "b8071ab2",
   "metadata": {},
   "source": [
    "### 创建用户(User)表"
   ]
  },
  {
   "cell_type": "code",
   "execution_count": 5,
   "id": "f040e268",
   "metadata": {
    "tags": [
     "mono"
    ]
   },
   "outputs": [
    {
     "name": "stdout",
     "output_type": "stream",
     "text": [
      "\n",
      "Table User's schema: \n",
      "Name              | Type    | Primary Key\n",
      "----------------------------------\n",
      "user_id           | INTEGER | Yes\n",
      "username          | TEXT    | No\n",
      "password_hash     | TEXT    | No\n",
      "phone             | TEXT    | No\n",
      "email             | TEXT    | No\n",
      "credit_score      | INTEGER | No\n",
      "registration_date | TEXT    | No\n",
      "last_login        | TEXT    | No\n",
      "status            | TEXT    | No\n"
     ]
    }
   ],
   "source": [
    "# 创建用户表 (User)\n",
    "cursor.execute('''\n",
    "CREATE TABLE IF NOT EXISTS User (\n",
    "    user_id INTEGER PRIMARY KEY AUTOINCREMENT,\n",
    "    username TEXT NOT NULL,\n",
    "    password_hash TEXT NOT NULL,\n",
    "    phone TEXT UNIQUE,\n",
    "    email TEXT UNIQUE,\n",
    "    credit_score INTEGER DEFAULT 0,\n",
    "    registration_date TEXT DEFAULT (datetime('now')),\n",
    "    last_login TEXT,\n",
    "    status TEXT DEFAULT 'active'\n",
    ")\n",
    "''')\n",
    "print_table_schema('User')"
   ]
  },
  {
   "cell_type": "code",
   "execution_count": 6,
   "id": "52f753b1",
   "metadata": {},
   "outputs": [],
   "source": [
    "# 用于生成假密码 hash\n",
    "def generate_password_hash(password):\n",
    "    return hashlib.sha256(password.encode('utf-8')).hexdigest()"
   ]
  },
  {
   "cell_type": "code",
   "execution_count": 7,
   "id": "870cd89e",
   "metadata": {},
   "outputs": [
    {
     "name": "stdout",
     "output_type": "stream",
     "text": [
      "Table User emptied successfully.\n"
     ]
    }
   ],
   "source": [
    "empty_table('User')"
   ]
  },
  {
   "cell_type": "code",
   "execution_count": 8,
   "id": "9575ee34",
   "metadata": {},
   "outputs": [],
   "source": [
    "for _ in range(20):\n",
    "    username = fake.user_name()\n",
    "    password = generate_password_hash(fake.password())\n",
    "    phone = fake.unique.phone_number()\n",
    "    email = fake.unique.email()\n",
    "    credit_score = random.randint(300, 850)\n",
    "    registration_date = fake.date_time_between(start_date='-2y', end_date='now').strftime('%Y-%m-%d %H:%M:%S')\n",
    "    last_login = fake.date_time_between(start_date=datetime.strptime(registration_date, '%Y-%m-%d %H:%M:%S'), end_date='now').strftime('%Y-%m-%d %H:%M:%S')\n",
    "    status = random.choice(['active', 'inactive', 'banned'])\n",
    "\n",
    "    cursor.execute('''\n",
    "        INSERT INTO User (username, password_hash, phone, email, credit_score, registration_date, last_login, status)\n",
    "        VALUES (?, ?, ?, ?, ?, ?, ?, ?)\n",
    "    ''', (username, password, phone, email, credit_score, registration_date, last_login, status))\n",
    "\n",
    "conn.commit() # 写入数据库中"
   ]
  },
  {
   "cell_type": "code",
   "execution_count": 9,
   "id": "7167cc76",
   "metadata": {
    "tags": [
     "mono"
    ]
   },
   "outputs": [
    {
     "name": "stdout",
     "output_type": "stream",
     "text": [
      "\n",
      "Table: User\n",
      "---------------------------------------------------------------------------------------------------------------------------------------------------------------------------------------------------------------------------\n",
      "user_id | username      | password_hash                                                    | phone                 | email                         | credit_score | registration_date   | last_login          | status  \n",
      "---------------------------------------------------------------------------------------------------------------------------------------------------------------------------------------------------------------------------\n",
      "1       | emassey       | 5b911af10d4b3ff3ffcabb5d78333adcebc775d3179ac12800d6da70f7984e26 | +1-654-473-3138x93079 | amyers@example.com            | 505          | 2025-01-17 22:46:31 | 2025-01-30 16:12:06 | banned  \n",
      "2       | iphillips     | 248cec5f015592654959147023406b70f5e026b6b5d14c39bba4c23b37bae2c9 | 838.409.9318x90575    | mary08@example.net            | 684          | 2024-03-21 03:14:54 | 2025-01-30 10:19:14 | inactive\n",
      "3       | aliciawalsh   | 5ce42529990d0a8b2633de279061c324a25924bbed8a50beda491f5c4c3211f2 | 666-953-3336x77558    | gcooke@example.org            | 551          | 2025-03-19 07:23:53 | 2025-03-23 10:08:22 | inactive\n",
      "4       | dana41        | c88c5e225d878e922dcfbd1e838ec50627e3dad18c6fe98226878fe8eca6388a | 742.530.1725x66974    | smithrichard@example.com      | 388          | 2024-03-10 03:41:59 | 2024-06-25 03:54:08 | inactive\n",
      "5       | allenraymond  | 98d063e56c6fe5d726b50c875bd0c1806898378d97304ec0fde886a64c0d838f | (993)409-6001         | tracy03@example.net           | 754          | 2023-11-29 04:03:31 | 2024-03-22 18:34:36 | active  \n",
      "6       | dcuevas       | 495a8a98e494d846d06046bd9417a3b30944e2cc8e1367713b8637964553ae77 | +1-410-269-6916x94152 | manndominique@example.org     | 346          | 2024-06-24 18:52:19 | 2024-12-14 00:29:46 | active  \n",
      "7       | beckjulie     | 7c439021edeba837b2596b276ddd18ace60df0d4566aac855360c05fa7a13cc0 | +1-932-405-0435       | ftaylor@example.net           | 621          | 2024-05-20 20:22:48 | 2024-08-23 11:48:36 | inactive\n",
      "8       | ljohnson      | d5dd37ab21ab303937c7a80f8230691b5154ff7bd64d8d2f6a6caed72ee798fa | 3894880799            | brookschristopher@example.com | 571          | 2023-05-17 10:31:55 | 2024-01-24 02:58:55 | inactive\n",
      "9       | ttaylor       | 829c64363a3a708eb812eaa732936be9fe42120054b4c34b5250ca911b781c08 | 9737141359            | daniellechristian@example.com | 405          | 2024-01-22 02:03:03 | 2024-10-13 07:43:16 | banned  \n",
      "10      | tiffany96     | b4da7d032f62207d84aa38a0f683d72f1a12604245cb4837140ab1e02ee9e54f | 9432879904            | connerjason@example.org       | 823          | 2025-01-11 09:15:03 | 2025-01-12 16:44:55 | inactive\n",
      "11      | dgreer        | 6add2ebc1e1096899ba84a5f6958a96e9fb1412e52be748ec3d1bbf1bb2ccfac | 254-454-2460          | gallagherlawrence@example.org | 597          | 2024-05-14 12:33:23 | 2024-10-23 15:12:03 | active  \n",
      "12      | cynthiapayne  | a4c538177b709a4ce97fd35e039759bc2de60b173b873ffadb4d9af8a783d814 | (814)624-2470x944     | osmith@example.org            | 589          | 2023-12-19 22:21:21 | 2024-07-29 14:24:31 | inactive\n",
      "13      | jthompson     | d59459831759f8ba2d4e330994d08a1b1ca8f4d22f68e836b7b87fdb943ea63a | 6206914155            | willisdonna@example.net       | 407          | 2023-09-29 14:38:31 | 2024-07-26 20:16:26 | inactive\n",
      "14      | mercedes47    | 7d077c85cb7e0ecf8874077b629c2b2322bcd7333135d9a1e9da4c00744fabff | 2483705562            | wigginsdiane@example.com      | 353          | 2024-02-14 23:31:41 | 2024-07-30 13:50:48 | active  \n",
      "15      | reyesrachel   | a29216593faf2a6b313fe027141f572bb71e837a8b1eb6d52a3fabff89fa5731 | +1-502-867-1101x3818  | marcus48@example.com          | 419          | 2023-05-11 13:59:17 | 2024-09-08 06:45:48 | banned  \n",
      "16      | ofisher       | 7dabacdf5f9bd093e5b936cb246e3fdd437c408f1882a6cf52041cec683528a4 | 611-332-1193x572      | sandra12@example.org          | 544          | 2024-02-05 19:51:34 | 2024-09-28 00:55:56 | inactive\n",
      "17      | amber00       | 49f0280c814e1d6e450746991217f65d43543a8dac1db9351f47882eb668c74d | 001-273-825-0419x6689 | woodjoshua@example.net        | 579          | 2025-03-23 07:58:47 | 2025-04-09 04:04:37 | inactive\n",
      "18      | edwardsjohnny | a9ee62475d144ad0c1a3e66478cbd3b9587ae636a5c6cc121c42d17005c5bd8d | (221)897-3585x3178    | christianherrera@example.org  | 808          | 2025-03-20 03:25:12 | 2025-03-26 19:18:13 | inactive\n",
      "19      | wburns        | 423cc72983fa1044810e25537b1888a1ddb60d90bb6900200d12bab9152dd37c | +1-237-210-2232x35833 | ujones@example.net            | 680          | 2024-12-30 17:32:16 | 2025-03-04 11:08:36 | active  \n",
      "20      | leslie76      | 21c2957c2ea43a6126b603936bd039730004f5d97c4ae0e57bcde1807262fc76 | +1-836-714-8189x2489  | ryan65@example.net            | 373          | 2025-01-14 05:43:16 | 2025-02-26 11:49:03 | inactive\n"
     ]
    }
   ],
   "source": [
    "print_table_data('User')"
   ]
  },
  {
   "cell_type": "markdown",
   "id": "69a2c24a",
   "metadata": {},
   "source": [
    "### 创建商品(Product)表\n",
    "说明：`FOREIGN KEY (seller_id) REFERENCES User(user_id) ON DELETE CASCADE` 定义了一个外键约束，并且指定了当被引用的记录（即 User 表中的记录）被删除时所有在子表（如 Product 表）中通过外键与该记录相关联的行也会自动被删除。这是一种级联删除操作。"
   ]
  },
  {
   "cell_type": "code",
   "execution_count": 10,
   "id": "861ab6f9",
   "metadata": {
    "tags": [
     "mono"
    ]
   },
   "outputs": [
    {
     "name": "stdout",
     "output_type": "stream",
     "text": [
      "\n",
      "Table Product's schema: \n",
      "Name           | Type    | Primary Key\n",
      "-------------------------------\n",
      "product_id     | INTEGER | Yes\n",
      "seller_id      | INTEGER | No\n",
      "title          | TEXT    | No\n",
      "description    | TEXT    | No\n",
      "price          | REAL    | No\n",
      "original_price | REAL    | No\n",
      "condition      | TEXT    | No\n",
      "location       | TEXT    | No\n",
      "post_date      | TEXT    | No\n",
      "status         | TEXT    | No\n",
      "view_count     | INTEGER | No\n",
      "fav_count      | INTEGER | No\n"
     ]
    }
   ],
   "source": [
    "# 创建商品表 (Product)\n",
    "cursor.execute('''\n",
    "CREATE TABLE IF NOT EXISTS Product (\n",
    "    product_id INTEGER PRIMARY KEY AUTOINCREMENT,\n",
    "    seller_id INTEGER NOT NULL,\n",
    "    title TEXT NOT NULL,\n",
    "    description TEXT,\n",
    "    price REAL NOT NULL,\n",
    "    original_price REAL,\n",
    "    condition TEXT CHECK(condition IN ('new', 'like new', 'good', 'fair', 'poor')),\n",
    "    location TEXT,\n",
    "    post_date TEXT DEFAULT (datetime('now')),\n",
    "    status TEXT DEFAULT 'available' CHECK(status IN ('available', 'reserved', 'sold', 'removed')),\n",
    "    view_count INTEGER DEFAULT 0,\n",
    "    fav_count INTEGER DEFAULT 0,\n",
    "    FOREIGN KEY (seller_id) REFERENCES User(user_id) ON DELETE CASCADE\n",
    ")\n",
    "''')\n",
    "print_table_schema('Product')"
   ]
  },
  {
   "cell_type": "code",
   "execution_count": 11,
   "id": "e2b51f2d",
   "metadata": {},
   "outputs": [
    {
     "name": "stdout",
     "output_type": "stream",
     "text": [
      "Table Product emptied successfully.\n"
     ]
    }
   ],
   "source": [
    "empty_table('Product')"
   ]
  },
  {
   "cell_type": "code",
   "execution_count": 12,
   "id": "0c02724c",
   "metadata": {},
   "outputs": [],
   "source": [
    "for _ in range(20):\n",
    "    seller_id = random.randint(1, 5)  # 假设有5个卖家\n",
    "    title = fake.word().capitalize() + \" \" + fake.word().capitalize()  # 商品标题\n",
    "    description = fake.sentence(nb_words=10)  # 商品描述\n",
    "    price = round(random.uniform(10.0, 1000.0), 2)  # 商品价格\n",
    "    original_price = round(price * random.uniform(1.0, 1.5), 2)  # 原价比价格高\n",
    "    condition = random.choice(['new', 'like new', 'good', 'fair', 'poor'])  # 商品条件\n",
    "    location = fake.city()  # 商品所在城市\n",
    "    post_date = fake.date_this_year().strftime('%Y-%m-%d')  # 发布日期\n",
    "    status = random.choice(['available', 'reserved', 'sold', 'removed'])  # 商品状态\n",
    "    view_count = random.randint(0, 500)  # 浏览数\n",
    "    fav_count = random.randint(0, 100)  # 收藏数\n",
    "\n",
    "    cursor.execute('''\n",
    "        INSERT INTO Product (seller_id, title, description, price, original_price, condition, location, post_date, status, view_count, fav_count)\n",
    "        VALUES (?, ?, ?, ?, ?, ?, ?, ?, ?, ?, ?)\n",
    "    ''', (seller_id, title, description, price, original_price, condition, location, post_date, status, view_count, fav_count))\n",
    "\n",
    "conn.commit()"
   ]
  },
  {
   "cell_type": "code",
   "execution_count": 13,
   "id": "7e3c8119",
   "metadata": {
    "tags": [
     "mono"
    ]
   },
   "outputs": [
    {
     "name": "stdout",
     "output_type": "stream",
     "text": [
      "\n",
      "Table: Product\n",
      "------------------------------------------------------------------------------------------------------------------------------------------------------------------------------------------------------------------------------------------------\n",
      "product_id | seller_id | title              | description                                                                        | price  | original_price | condition | location           | post_date  | status    | view_count | fav_count\n",
      "------------------------------------------------------------------------------------------------------------------------------------------------------------------------------------------------------------------------------------------------\n",
      "1          | 4         | Cover Issue        | Build always place none join return computer let ready find.                       | 562.7  | 707.76         | good      | West Helen         | 2025-03-27 | removed   | 12         | 15       \n",
      "2          | 3         | Break Enough       | Just them meet all rather out far decade past about our region.                    | 457.48 | 471.55         | new       | North Terri        | 2025-01-26 | available | 236        | 54       \n",
      "3          | 1         | Spring Little      | Including science any thus third step study.                                       | 913.37 | 1079.31        | new       | Lake Allisonside   | 2025-03-15 | available | 393        | 63       \n",
      "4          | 4         | Measure Forget     | Do break around fine political both third without.                                 | 155.0  | 157.8          | new       | Davidtown          | 2025-04-07 | sold      | 329        | 90       \n",
      "5          | 1         | Military Speak     | Loss necessary son collection buy along stay each until dream bring.               | 345.66 | 434.08         | new       | Guerraton          | 2025-03-05 | sold      | 481        | 64       \n",
      "6          | 5         | Magazine Thank     | Many here whom through energy prepare base.                                        | 258.31 | 351.54         | new       | West Clarencetown  | 2025-04-09 | sold      | 216        | 30       \n",
      "7          | 3         | Note President     | Born low manager else boy science little upon owner population quality wait style. | 269.86 | 309.39         | like new  | Molinastad         | 2025-01-25 | reserved  | 258        | 22       \n",
      "8          | 5         | Fine Student       | Drug through set nation ago check create employee suffer nice him.                 | 39.95  | 43.54          | poor      | New Jessica        | 2025-04-01 | reserved  | 356        | 2        \n",
      "9          | 1         | Way There          | Tend short expert study represent down attorney at describe create.                | 517.53 | 645.36         | new       | Port Patrickmouth  | 2025-02-26 | sold      | 433        | 41       \n",
      "10         | 2         | Open Program       | Think upon trip kind at more movie well fine win.                                  | 790.36 | 1033.1         | like new  | Griffithbury       | 2025-02-15 | removed   | 39         | 26       \n",
      "11         | 1         | Majority Road      | Difference town need every fine tonight listen food.                               | 998.82 | 1471.05        | like new  | Alyssaburgh        | 2025-01-28 | removed   | 190        | 61       \n",
      "12         | 5         | Threat Least       | Let feeling hit four look consumer brother yard hear collection.                   | 573.88 | 692.7          | new       | Tomton             | 2025-01-21 | removed   | 20         | 12       \n",
      "13         | 4         | Water Generation   | Body carry down second like behavior film admit doctor.                            | 734.4  | 925.76         | like new  | North Robertfort   | 2025-02-01 | removed   | 403        | 84       \n",
      "14         | 5         | Mission Benefit    | Theory add fund guess professor laugh across hit shake community long matter.      | 645.84 | 856.54         | good      | Alvarezberg        | 2025-04-10 | removed   | 190        | 86       \n",
      "15         | 2         | Yourself Scientist | Head organization make without place possible reach name.                          | 532.48 | 781.62         | like new  | Stephanieside      | 2025-01-14 | sold      | 242        | 99       \n",
      "16         | 5         | Black Issue        | Share institution maybe such brother begin reason her.                             | 196.41 | 288.38         | fair      | Jamesmouth         | 2025-01-22 | sold      | 444        | 90       \n",
      "17         | 2         | Skill Serious      | Citizen compare practice local not whose.                                          | 403.79 | 481.95         | fair      | South Brittanyview | 2025-01-08 | removed   | 372        | 61       \n",
      "18         | 1         | Crime Admit        | Lawyer plant thought president factor why arrive.                                  | 240.28 | 353.84         | new       | Lake Matthewton    | 2025-03-03 | removed   | 332        | 45       \n",
      "19         | 1         | Listen Government  | Performance away office fire push can exist no program.                            | 310.38 | 462.94         | fair      | South Elizabeth    | 2025-02-06 | removed   | 330        | 16       \n",
      "20         | 4         | White Computer     | Region good large my data food site.                                               | 65.13  | 85.8           | new       | Lisaburgh          | 2025-03-07 | available | 448        | 40       \n"
     ]
    }
   ],
   "source": [
    "print_table_data('Product')"
   ]
  },
  {
   "cell_type": "markdown",
   "id": "23324bfc",
   "metadata": {},
   "source": [
    "### 创建订单(Order)表\n",
    "说明：注意 Order 是一个保留关键字，这里必须通过加下划线等方式避免。"
   ]
  },
  {
   "cell_type": "code",
   "execution_count": 14,
   "id": "d18d16e8",
   "metadata": {
    "tags": [
     "mono"
    ]
   },
   "outputs": [
    {
     "name": "stdout",
     "output_type": "stream",
     "text": [
      "\n",
      "Table Order_'s schema: \n",
      "Name             | Type    | Primary Key\n",
      "---------------------------------\n",
      "order_id         | INTEGER | Yes\n",
      "product_id       | INTEGER | No\n",
      "buyer_id         | INTEGER | No\n",
      "seller_id        | INTEGER | No\n",
      "order_date       | TEXT    | No\n",
      "price            | REAL    | No\n",
      "status           | TEXT    | No\n",
      "payment_method   | TEXT    | No\n",
      "shipping_address | TEXT    | No\n",
      "tracking_number  | TEXT    | No\n"
     ]
    }
   ],
   "source": [
    "# 创建订单表 (Order)\n",
    "cursor.execute('''\n",
    "CREATE TABLE IF NOT EXISTS Order_ (\n",
    "    order_id INTEGER PRIMARY KEY AUTOINCREMENT,\n",
    "    product_id INTEGER NOT NULL,\n",
    "    buyer_id INTEGER NOT NULL,\n",
    "    seller_id INTEGER NOT NULL,\n",
    "    order_date TEXT DEFAULT (datetime('now')),\n",
    "    price REAL NOT NULL,\n",
    "    status TEXT DEFAULT 'pending' CHECK(status IN ('pending', 'paid', 'shipped', 'completed', 'cancelled')),\n",
    "    payment_method TEXT,\n",
    "    shipping_address TEXT,\n",
    "    tracking_number TEXT,\n",
    "    FOREIGN KEY (product_id) REFERENCES Product(product_id) ON DELETE CASCADE,\n",
    "    FOREIGN KEY (buyer_id) REFERENCES User(user_id) ON DELETE CASCADE,\n",
    "    FOREIGN KEY (seller_id) REFERENCES User(user_id) ON DELETE CASCADE\n",
    ")\n",
    "''')\n",
    "print_table_schema('Order_')"
   ]
  },
  {
   "cell_type": "code",
   "execution_count": 15,
   "id": "47034119",
   "metadata": {},
   "outputs": [
    {
     "name": "stdout",
     "output_type": "stream",
     "text": [
      "Table Order_ emptied successfully.\n"
     ]
    }
   ],
   "source": [
    "empty_table('Order_')"
   ]
  },
  {
   "cell_type": "code",
   "execution_count": 16,
   "id": "903a84e3",
   "metadata": {},
   "outputs": [],
   "source": [
    "for _ in range(20):\n",
    "    product_id = random.randint(1, 20)  # 随机选择产品ID (假设Product表有20条数据)\n",
    "    buyer_id = random.randint(1, 10)    # 假设有10个买家\n",
    "    seller_id = random.randint(1, 5)   # 假设有5个卖家\n",
    "    price = round(random.uniform(10.0, 1000.0), 2)  # 订单价格\n",
    "    status = random.choice(['pending', 'paid', 'shipped', 'completed', 'cancelled'])  # 订单状态\n",
    "    payment_method = random.choice(['credit card', 'paypal', 'bank transfer', 'cash'])  # 支付方式\n",
    "    shipping_address = fake.address().replace(\"\\n\", \", \")  # 随机生成地址\n",
    "    tracking_number = fake.uuid4()  # 随机生成跟踪号\n",
    "\n",
    "    cursor.execute('''\n",
    "        INSERT INTO Order_ (product_id, buyer_id, seller_id, order_date, price, status, payment_method, shipping_address, tracking_number)\n",
    "        VALUES (?, ?, ?, datetime('now'), ?, ?, ?, ?, ?)\n",
    "    ''', (product_id, buyer_id, seller_id, price, status, payment_method, shipping_address, tracking_number))\n",
    "\n",
    "# 提交事务\n",
    "conn.commit()"
   ]
  },
  {
   "cell_type": "code",
   "execution_count": 17,
   "id": "c3f9a4d0",
   "metadata": {
    "tags": [
     "mono"
    ]
   },
   "outputs": [
    {
     "name": "stdout",
     "output_type": "stream",
     "text": [
      "\n",
      "Table: Order_\n",
      "------------------------------------------------------------------------------------------------------------------------------------------------------------------------------------------------------------\n",
      "order_id | product_id | buyer_id | seller_id | order_date          | price  | status    | payment_method | shipping_address                                        | tracking_number                     \n",
      "------------------------------------------------------------------------------------------------------------------------------------------------------------------------------------------------------------\n",
      "1        | 7          | 8        | 1         | 2025-04-12 09:10:38 | 628.01 | completed | cash           | 92468 Natalie Field, Juliamouth, OH 79012               | 66cae580-0270-4d4f-a69d-711914ae753c\n",
      "2        | 17         | 6        | 3         | 2025-04-12 09:10:38 | 646.61 | cancelled | bank transfer  | 3659 White Mall Apt. 537, Lynchshire, AZ 38780          | 1d4580ab-3749-4c27-a79f-25e027d07bb5\n",
      "3        | 1          | 4        | 1         | 2025-04-12 09:10:38 | 257.52 | pending   | bank transfer  | Unit 9289 Box 6536, DPO AE 19122                        | b0c21bf9-2f1d-4ae7-9625-0e8c66a1fa0e\n",
      "4        | 1          | 1        | 5         | 2025-04-12 09:10:38 | 344.4  | pending   | bank transfer  | 5420 Miller Forks, West Tiffanyton, CO 65428            | ef37fdab-4595-4562-a0f0-b4103e570aaf\n",
      "5        | 15         | 5        | 4         | 2025-04-12 09:10:38 | 722.0  | completed | credit card    | 94092 Kenneth Creek Apt. 610, Sethberg, OK 98625        | 13cef0bf-a91b-4c1b-ad71-8d91f616195b\n",
      "6        | 12         | 1        | 4         | 2025-04-12 09:10:38 | 729.18 | cancelled | paypal         | 053 Jason Square, Weberburgh, AR 99595                  | 88296eb4-73e8-4d9e-9d07-cfbcc3e894d9\n",
      "7        | 18         | 10       | 4         | 2025-04-12 09:10:38 | 452.31 | shipped   | credit card    | 76221 Christensen Falls, Emilyfort, AR 91104            | 627d0e92-5065-45a9-ab15-d502da106cd8\n",
      "8        | 12         | 9        | 3         | 2025-04-12 09:10:38 | 773.48 | pending   | credit card    | 116 Ryan Loop Suite 629, Petersstad, AL 36861           | 86516623-fbc7-4b6f-a39c-121768a9eac5\n",
      "9        | 14         | 6        | 3         | 2025-04-12 09:10:38 | 755.55 | pending   | paypal         | 240 Stewart Landing Suite 102, Brownborough, MS 24895   | ae9e6a48-38b6-4692-b745-b55a9415ef9c\n",
      "10       | 10         | 8        | 2         | 2025-04-12 09:10:38 | 73.41  | completed | credit card    | 3254 Edwards Common Suite 931, East Tonya, NV 99469     | b93440dd-555a-4700-877a-555b57b7e777\n",
      "11       | 17         | 3        | 3         | 2025-04-12 09:10:38 | 115.88 | completed | bank transfer  | 194 Sheryl Parkway, West Tommyborough, MA 77347         | 5be2c4d5-2cd2-4979-864d-8cc09003d8d5\n",
      "12       | 11         | 10       | 3         | 2025-04-12 09:10:38 | 819.79 | shipped   | credit card    | 02927 Shelley Crossing, Charlesbury, LA 88139           | 0311baef-ffa0-4052-81da-fa122b74d5cb\n",
      "13       | 7          | 1        | 2         | 2025-04-12 09:10:38 | 635.55 | paid      | cash           | 7427 Christina Ramp, South Ryan, NJ 39750               | 2b70763c-58fb-4b2a-aaf1-b58b47afa63d\n",
      "14       | 15         | 3        | 4         | 2025-04-12 09:10:38 | 506.48 | shipped   | paypal         | 829 Moreno Parkway Suite 460, Jamesburgh, TN 49492      | fa34eeb1-325d-41e2-8f0f-2a780e4dfdfa\n",
      "15       | 5          | 3        | 3         | 2025-04-12 09:10:38 | 43.95  | cancelled | credit card    | 95856 Sarah Green Suite 906, Lake Reginaburgh, SD 72201 | 1f1b5904-3458-4c63-a2fe-1bfdf922f83f\n",
      "16       | 4          | 10       | 4         | 2025-04-12 09:10:38 | 355.04 | shipped   | bank transfer  | 645 Frye Point, North Andreville, PA 26829              | e2840e3f-5ac1-4fa9-8202-66c0510c99be\n",
      "17       | 8          | 9        | 2         | 2025-04-12 09:10:38 | 720.76 | paid      | bank transfer  | 07103 Jessica Centers, Martinezstad, OH 99485           | 33c5157b-4184-457c-801d-3916daa28fdf\n",
      "18       | 2          | 4        | 3         | 2025-04-12 09:10:38 | 68.35  | cancelled | credit card    | 9653 Jessica Rapid Suite 505, Port Joshuaside, FL 50034 | 944a03fb-6ce8-446c-8ada-3161f2e65eae\n",
      "19       | 6          | 8        | 5         | 2025-04-12 09:10:38 | 96.56  | completed | cash           | 12551 Murphy Shoal, Pedrochester, NV 28871              | f51714ae-4b56-40da-8b78-52551721f5b2\n",
      "20       | 20         | 6        | 1         | 2025-04-12 09:10:38 | 92.1   | pending   | bank transfer  | 4992 Olson Parkways Suite 234, Dayshire, GU 47651       | 0e2f4f9e-0d1d-405f-82dd-7fd929073c56\n"
     ]
    }
   ],
   "source": [
    "print_table_data('Order_')"
   ]
  },
  {
   "cell_type": "markdown",
   "id": "30c98f0a",
   "metadata": {},
   "source": [
    "### 创建消息(Message)表"
   ]
  },
  {
   "cell_type": "code",
   "execution_count": 18,
   "id": "a24c85eb",
   "metadata": {
    "tags": [
     "mono"
    ]
   },
   "outputs": [
    {
     "name": "stdout",
     "output_type": "stream",
     "text": [
      "\n",
      "Table Message's schema: \n",
      "Name        | Type    | Primary Key\n",
      "----------------------------\n",
      "message_id  | INTEGER | Yes\n",
      "sender_id   | INTEGER | No\n",
      "receiver_id | INTEGER | No\n",
      "product_id  | INTEGER | No\n",
      "content     | TEXT    | No\n",
      "send_time   | TEXT    | No\n",
      "is_read     | INTEGER | No\n"
     ]
    }
   ],
   "source": [
    "# 创建消息表 (Message)\n",
    "cursor.execute('''\n",
    "CREATE TABLE IF NOT EXISTS Message (\n",
    "    message_id INTEGER PRIMARY KEY AUTOINCREMENT,\n",
    "    sender_id INTEGER NOT NULL,\n",
    "    receiver_id INTEGER NOT NULL,\n",
    "    product_id INTEGER,\n",
    "    content TEXT NOT NULL,\n",
    "    send_time TEXT DEFAULT (datetime('now')),\n",
    "    is_read INTEGER DEFAULT 0,\n",
    "    FOREIGN KEY (sender_id) REFERENCES User(user_id) ON DELETE CASCADE,\n",
    "    FOREIGN KEY (receiver_id) REFERENCES User(user_id) ON DELETE CASCADE,\n",
    "    FOREIGN KEY (product_id) REFERENCES Product(product_id) ON DELETE SET NULL\n",
    ")\n",
    "''')\n",
    "print_table_schema('Message')"
   ]
  },
  {
   "cell_type": "code",
   "execution_count": 19,
   "id": "03d7a5f5",
   "metadata": {},
   "outputs": [
    {
     "name": "stdout",
     "output_type": "stream",
     "text": [
      "Table Message emptied successfully.\n"
     ]
    }
   ],
   "source": [
    "empty_table('Message')"
   ]
  },
  {
   "cell_type": "code",
   "execution_count": 20,
   "id": "8212f4e3",
   "metadata": {},
   "outputs": [],
   "source": [
    "for _ in range(20):\n",
    "    sender_id = random.randint(1, 10)  # 假设有10个用户作为发送者\n",
    "    receiver_id = random.randint(1, 10)  # 假设有10个用户作为接收者\n",
    "    product_id = random.randint(1, 20)  # 假设Product表有20个产品\n",
    "    content = fake.sentence(nb_words=15)  # 随机生成消息内容\n",
    "    send_time = fake.date_this_year().strftime('%Y-%m-%d %H:%M:%S')  # 消息发送时间\n",
    "    is_read = random.choice([0, 1])  # 随机设置消息是否已读 (0: 未读, 1: 已读)\n",
    "\n",
    "    cursor.execute('''\n",
    "        INSERT INTO Message (sender_id, receiver_id, product_id, content, send_time, is_read)\n",
    "        VALUES (?, ?, ?, ?, ?, ?)\n",
    "    ''', (sender_id, receiver_id, product_id, content, send_time, is_read))\n",
    "\n",
    "# 提交事务\n",
    "conn.commit()"
   ]
  },
  {
   "cell_type": "code",
   "execution_count": 21,
   "id": "5e078a7e",
   "metadata": {
    "tags": [
     "mono"
    ]
   },
   "outputs": [
    {
     "name": "stdout",
     "output_type": "stream",
     "text": [
      "\n",
      "Table: Message\n",
      "---------------------------------------------------------------------------------------------------------------------------------------------------------------------------------------------------------------------------------------\n",
      "message_id | sender_id | receiver_id | product_id | content                                                                                                                                          | send_time           | is_read\n",
      "---------------------------------------------------------------------------------------------------------------------------------------------------------------------------------------------------------------------------------------\n",
      "1          | 8         | 1           | 13         | Item read loss project class cover car cup age kind account next open to into memory.                                                            | 2025-02-27 00:00:00 | 0      \n",
      "2          | 5         | 3           | 14         | Various watch family set occur simple understand know admit believe know future citizen direction appear summer analysis carry.                  | 2025-03-15 00:00:00 | 1      \n",
      "3          | 7         | 2           | 1          | Second relate close force very huge increase admit want yourself read bag travel explain particularly letter doctor part system.                 | 2025-03-19 00:00:00 | 0      \n",
      "4          | 9         | 2           | 19         | Study cold material look admit financial even join cause energy question with approach far large state attack really drop wind.                  | 2025-02-07 00:00:00 | 1      \n",
      "5          | 1         | 1           | 16         | Task interest leave experience letter wish call be through at leg care buy already rule action security international force.                     | 2025-01-22 00:00:00 | 1      \n",
      "6          | 1         | 9           | 17         | Camera positive also physical then upon truth have reach respond decide allow perhaps travel life get.                                           | 2025-01-29 00:00:00 | 1      \n",
      "7          | 5         | 2           | 3          | Kind eight magazine already party economic beat national reflect important deep action old action soon shake who.                                | 2025-03-24 00:00:00 | 0      \n",
      "8          | 3         | 7           | 2          | Movement beautiful building media despite director run white next stay figure second.                                                            | 2025-04-03 00:00:00 | 0      \n",
      "9          | 5         | 10          | 13         | Make may meet might tend exactly financial per dinner when positive.                                                                             | 2025-01-05 00:00:00 | 1      \n",
      "10         | 5         | 6           | 19         | Present much director teach apply by themselves little back bring plant very body administration lose economic today.                            | 2025-04-08 00:00:00 | 0      \n",
      "11         | 1         | 10          | 17         | Where writer world necessary simple condition turn way reflect enough professional environmental attack word individual.                         | 2025-03-29 00:00:00 | 1      \n",
      "12         | 8         | 1           | 11         | Reason include instead from today one certain it always be dog.                                                                                  | 2025-04-10 00:00:00 | 0      \n",
      "13         | 2         | 10          | 10         | Price north stay where show establish single threat instead.                                                                                     | 2025-01-15 00:00:00 | 0      \n",
      "14         | 1         | 3           | 17         | Tend garden mouth discussion language west million cause lead no since case performance single.                                                  | 2025-01-04 00:00:00 | 1      \n",
      "15         | 9         | 6           | 8          | None development treat work be bit practice star performance member represent nation nearly model.                                               | 2025-01-16 00:00:00 | 0      \n",
      "16         | 1         | 8           | 9          | Minute season peace information prepare offer finish morning compare international inside general fund gas executive memory do.                  | 2025-03-27 00:00:00 | 1      \n",
      "17         | 6         | 4           | 11         | Treatment throughout agreement card democratic special make above television list check southern onto culture data grow art.                     | 2025-04-01 00:00:00 | 1      \n",
      "18         | 10        | 4           | 2          | Black owner reduce drop should decision wind break home benefit all probably second because name four.                                           | 2025-01-12 00:00:00 | 0      \n",
      "19         | 7         | 2           | 1          | Commercial whose current teacher worry then arm behavior man week fire store term.                                                               | 2025-04-11 00:00:00 | 0      \n",
      "20         | 6         | 8           | 13         | Agree face seat suddenly such bill professor prevent management hear American study system ten officer possible allow analysis wear player back. | 2025-01-15 00:00:00 | 0      \n"
     ]
    }
   ],
   "source": [
    "print_table_data('Message')"
   ]
  },
  {
   "cell_type": "markdown",
   "id": "ae0120bf",
   "metadata": {},
   "source": [
    "### 创建收藏(Favorite)表\n",
    "说明：`UNIQUE (user_id, product_id)` 约束确保了同一个用户不能收藏同一件商品多次。"
   ]
  },
  {
   "cell_type": "code",
   "execution_count": 22,
   "id": "70ade075",
   "metadata": {
    "tags": [
     "mono"
    ]
   },
   "outputs": [
    {
     "name": "stdout",
     "output_type": "stream",
     "text": [
      "\n",
      "Table Favorite's schema: \n",
      "Name        | Type    | Primary Key\n",
      "----------------------------\n",
      "favorite_id | INTEGER | Yes\n",
      "user_id     | INTEGER | No\n",
      "product_id  | INTEGER | No\n",
      "add_date    | TEXT    | No\n"
     ]
    }
   ],
   "source": [
    "# 创建收藏表 (Favorite)\n",
    "cursor.execute('''\n",
    "CREATE TABLE IF NOT EXISTS Favorite (\n",
    "    favorite_id INTEGER PRIMARY KEY AUTOINCREMENT,\n",
    "    user_id INTEGER NOT NULL,\n",
    "    product_id INTEGER NOT NULL,\n",
    "    add_date TEXT DEFAULT (datetime('now')),\n",
    "    UNIQUE(user_id, product_id),\n",
    "    FOREIGN KEY (user_id) REFERENCES User(user_id) ON DELETE CASCADE,\n",
    "    FOREIGN KEY (product_id) REFERENCES Product(product_id) ON DELETE CASCADE\n",
    ")\n",
    "''')\n",
    "print_table_schema('Favorite')"
   ]
  },
  {
   "cell_type": "code",
   "execution_count": 23,
   "id": "80615108",
   "metadata": {},
   "outputs": [
    {
     "name": "stdout",
     "output_type": "stream",
     "text": [
      "Table Favorite emptied successfully.\n"
     ]
    }
   ],
   "source": [
    "empty_table('Favorite')"
   ]
  },
  {
   "cell_type": "code",
   "execution_count": 24,
   "id": "df073980",
   "metadata": {},
   "outputs": [],
   "source": [
    "for _ in range(20):\n",
    "    user_id = random.randint(1, 10)  # 假设有10个用户\n",
    "    product_id = random.randint(1, 20)  # 假设有20个商品\n",
    "    add_date = fake.date_this_year().strftime('%Y-%m-%d')  # 随机生成收藏日期\n",
    "\n",
    "    # 确保用户和商品的收藏组合唯一\n",
    "    cursor.execute('''\n",
    "        INSERT OR IGNORE INTO Favorite (user_id, product_id, add_date)\n",
    "        VALUES (?, ?, ?)\n",
    "    ''', (user_id, product_id, add_date))\n",
    "\n",
    "# 提交事务\n",
    "conn.commit()"
   ]
  },
  {
   "cell_type": "code",
   "execution_count": 25,
   "id": "72a62c26",
   "metadata": {
    "tags": [
     "mono"
    ]
   },
   "outputs": [
    {
     "name": "stdout",
     "output_type": "stream",
     "text": [
      "\n",
      "Table: Favorite\n",
      "--------------------------------------------------\n",
      "favorite_id | user_id | product_id | add_date  \n",
      "--------------------------------------------------\n",
      "1           | 1       | 4          | 2025-03-05\n",
      "2           | 3       | 6          | 2025-03-20\n",
      "3           | 4       | 10         | 2025-03-11\n",
      "4           | 6       | 9          | 2025-04-02\n",
      "5           | 1       | 11         | 2025-01-28\n",
      "6           | 3       | 11         | 2025-03-31\n",
      "7           | 8       | 3          | 2025-01-21\n",
      "8           | 6       | 17         | 2025-01-30\n",
      "9           | 8       | 2          | 2025-04-03\n",
      "10          | 7       | 8          | 2025-01-21\n",
      "11          | 8       | 13         | 2025-03-29\n",
      "12          | 8       | 11         | 2025-03-11\n",
      "13          | 5       | 3          | 2025-01-08\n",
      "14          | 10      | 8          | 2025-02-10\n",
      "15          | 7       | 11         | 2025-01-10\n",
      "16          | 1       | 19         | 2025-02-24\n",
      "17          | 10      | 12         | 2025-01-25\n",
      "18          | 2       | 15         | 2025-01-30\n",
      "19          | 5       | 19         | 2025-03-08\n",
      "20          | 9       | 19         | 2025-03-27\n"
     ]
    }
   ],
   "source": [
    "print_table_data('Favorite')"
   ]
  },
  {
   "cell_type": "markdown",
   "id": "1039cb71",
   "metadata": {},
   "source": [
    "## 步骤四：数据库操作"
   ]
  },
  {
   "cell_type": "markdown",
   "id": "07a57d1f",
   "metadata": {},
   "source": [
    "### 用户(User)表的操作"
   ]
  },
  {
   "cell_type": "code",
   "execution_count": 26,
   "id": "d14a2f10",
   "metadata": {},
   "outputs": [],
   "source": [
    "def add_user(username, password_hash, phone=None, email=None, credit_score=0):\n",
    "    cursor.execute('''\n",
    "    INSERT INTO User (username, password_hash, phone, email, credit_score)\n",
    "    VALUES (?, ?, ?, ?, ?)\n",
    "    ''', (username, password_hash, phone, email, credit_score))\n",
    "    conn.commit()\n",
    "    return cursor.lastrowid\n",
    "\n",
    "def get_user(user_id=None, username=None, phone=None, email=None):\n",
    "    query = 'SELECT * FROM User WHERE '\n",
    "    conditions = []\n",
    "    params = []\n",
    "    \n",
    "    if user_id:\n",
    "        conditions.append('user_id = ?')\n",
    "        params.append(user_id)\n",
    "    if username:\n",
    "        conditions.append('username = ?')\n",
    "        params.append(username)\n",
    "    if phone:\n",
    "        conditions.append('phone = ?')\n",
    "        params.append(phone)\n",
    "    if email:\n",
    "        conditions.append('email = ?')\n",
    "        params.append(email)\n",
    "    \n",
    "    if not conditions:\n",
    "        return None\n",
    "    \n",
    "    query += ' AND '.join(conditions)\n",
    "    cursor.execute(query, params)\n",
    "    return cursor.fetchone()\n",
    "\n",
    "def update_user(user_id, username=None, password_hash=None, phone=None, email=None, credit_score=None):\n",
    "    updates = []\n",
    "    params = []\n",
    "    \n",
    "    if username:\n",
    "        updates.append('username = ?')\n",
    "        params.append(username)\n",
    "    if password_hash:\n",
    "        updates.append('password_hash = ?')\n",
    "        params.append(password_hash)\n",
    "    if phone:\n",
    "        updates.append('phone = ?')\n",
    "        params.append(phone)\n",
    "    if email:\n",
    "        updates.append('email = ?')\n",
    "        params.append(email)\n",
    "    if credit_score is not None:\n",
    "        updates.append('credit_score = ?')\n",
    "        params.append(credit_score)\n",
    "    \n",
    "    if not updates:\n",
    "        return False\n",
    "    \n",
    "    params.append(user_id)\n",
    "    query = 'UPDATE User SET ' + ', '.join(updates) + ' WHERE user_id = ?'\n",
    "    cursor.execute(query, params)\n",
    "    conn.commit()\n",
    "    return cursor.rowcount > 0\n",
    "\n",
    "def delete_user(user_id):\n",
    "    cursor.execute('DELETE FROM User WHERE user_id = ?', (user_id,))\n",
    "    conn.commit()\n",
    "    return cursor.rowcount > 0"
   ]
  },
  {
   "cell_type": "code",
   "execution_count": 27,
   "id": "9b426632",
   "metadata": {},
   "outputs": [
    {
     "name": "stdout",
     "output_type": "stream",
     "text": [
      "Added users with IDs: 21, 22\n",
      "User1: (21, 'john_doe', 'hashed_password123', '1234567890', 'john@example.com', 0, '2025-04-12 09:10:38', None, 'active')\n",
      "User by phone: (21, 'john_doe', 'hashed_password123', '1234567890', 'john@example.com', 0, '2025-04-12 09:10:38', None, 'active')\n",
      "Update successful: True\n",
      "Updated user: (21, 'john_doe', 'hashed_password123', '1234567890', 'john.doe@newexample.com', 75, '2025-04-12 09:10:38', None, 'active')\n",
      "Delete successful: True\n"
     ]
    }
   ],
   "source": [
    "# 添加用户\n",
    "user1_id = add_user('john_doe', 'hashed_password123', '1234567890', 'john@example.com')\n",
    "user2_id = add_user('jane_smith', 'hashed_password456', '0987654321', 'jane@example.com', 50)\n",
    "print(f\"Added users with IDs: {user1_id}, {user2_id}\")\n",
    "\n",
    "# 查询用户\n",
    "user1 = get_user(user_id=user1_id)\n",
    "user_by_phone = get_user(phone='1234567890')\n",
    "print(\"User1:\", user1)\n",
    "print(\"User by phone:\", user_by_phone)\n",
    "\n",
    "# 更新用户\n",
    "update_success = update_user(user1_id, email='john.doe@newexample.com', credit_score=75)\n",
    "print(f\"Update successful: {update_success}\")\n",
    "updated_user = get_user(user_id=user1_id)\n",
    "print(\"Updated user:\", updated_user)\n",
    "\n",
    "# 删除用户\n",
    "delete_success = delete_user(user2_id)\n",
    "print(f\"Delete successful: {delete_success}\")"
   ]
  },
  {
   "cell_type": "markdown",
   "id": "e613729a",
   "metadata": {},
   "source": [
    "### 商品(Product)表的操作"
   ]
  },
  {
   "cell_type": "code",
   "execution_count": 28,
   "id": "8d6c3b71",
   "metadata": {},
   "outputs": [],
   "source": [
    "def add_product(seller_id, title, description, price, original_price=None, \n",
    "                condition=None, location=None):\n",
    "    cursor.execute('''\n",
    "    INSERT INTO Product (seller_id, title, description, price, original_price, condition, location)\n",
    "    VALUES (?, ?, ?, ?, ?, ?, ?)\n",
    "    ''', (seller_id, title, description, price, original_price, condition, location))\n",
    "    conn.commit()\n",
    "    return cursor.lastrowid\n",
    "\n",
    "def get_products(product_id=None, seller_id=None, title=None, condition=None, status=None, min_price=None, max_price=None):\n",
    "    query = 'SELECT * FROM Product WHERE '\n",
    "    conditions = []\n",
    "    params = []\n",
    "    \n",
    "    if product_id:\n",
    "        conditions.append('product_id = ?')\n",
    "        params.append(product_id)\n",
    "    if seller_id:\n",
    "        conditions.append('seller_id = ?')\n",
    "        params.append(seller_id)\n",
    "    if title:\n",
    "        conditions.append('title LIKE ?')\n",
    "        params.append(f'%{title}%')\n",
    "    if condition:\n",
    "        conditions.append('condition = ?')\n",
    "        params.append(condition)\n",
    "    if status:\n",
    "        conditions.append('status = ?')\n",
    "        params.append(status)\n",
    "    if min_price:\n",
    "        conditions.append('price >= ?')\n",
    "        params.append(min_price)\n",
    "    if max_price:\n",
    "        conditions.append('price <= ?')\n",
    "        params.append(max_price)\n",
    "    \n",
    "    if not conditions:\n",
    "        query = 'SELECT * FROM Product'\n",
    "    else:\n",
    "        query += ' AND '.join(conditions)\n",
    "    \n",
    "    cursor.execute(query, params)\n",
    "    return cursor.fetchall()\n",
    "\n",
    "def update_product(product_id, title=None, description=None, price=None, \n",
    "                   original_price=None, condition=None, location=None, status=None):\n",
    "    updates = []\n",
    "    params = []\n",
    "    \n",
    "    if title:\n",
    "        updates.append('title = ?')\n",
    "        params.append(title)\n",
    "    if description:\n",
    "        updates.append('description = ?')\n",
    "        params.append(description)\n",
    "    if price:\n",
    "        updates.append('price = ?')\n",
    "        params.append(price)\n",
    "    if original_price:\n",
    "        updates.append('original_price = ?')\n",
    "        params.append(original_price)\n",
    "    if condition:\n",
    "        updates.append('condition = ?')\n",
    "        params.append(condition)\n",
    "    if location:\n",
    "        updates.append('location = ?')\n",
    "        params.append(location)\n",
    "    if status:\n",
    "        updates.append('status = ?')\n",
    "        params.append(status)\n",
    "    \n",
    "    if not updates:\n",
    "        return False\n",
    "    \n",
    "    params.append(product_id)\n",
    "    query = 'UPDATE Product SET ' + ', '.join(updates) + ' WHERE product_id = ?'\n",
    "    cursor.execute(query, params)\n",
    "    conn.commit()\n",
    "    return cursor.rowcount > 0\n",
    "\n",
    "def delete_product(product_id):\n",
    "    cursor.execute('DELETE FROM Product WHERE product_id = ?', (product_id,))\n",
    "    conn.commit()\n",
    "    return cursor.rowcount > 0"
   ]
  },
  {
   "cell_type": "code",
   "execution_count": 29,
   "id": "903b4a59",
   "metadata": {},
   "outputs": [
    {
     "name": "stdout",
     "output_type": "stream",
     "text": [
      "Added products with IDs: 21, 22\n",
      "All products by seller: [(21, 21, 'iPhone 12', 'Like new iPhone 12, 128GB', 599.99, 799.99, 'like new', 'New York', '2025-04-12 09:10:38', 'available', 0, 0), (22, 21, 'MacBook Pro', '2020 MacBook Pro 13', 999.99, 1299.99, 'good', 'New York', '2025-04-12 09:10:38', 'available', 0, 0)]\n",
      "Expensive products: [(3, 1, 'Spring Little', 'Including science any thus third step study.', 913.37, 1079.31, 'new', 'Lake Allisonside', '2025-03-15', 'available', 393, 63), (11, 1, 'Majority Road', 'Difference town need every fine tonight listen food.', 998.82, 1471.05, 'like new', 'Alyssaburgh', '2025-01-28', 'removed', 190, 61), (22, 21, 'MacBook Pro', '2020 MacBook Pro 13', 999.99, 1299.99, 'good', 'New York', '2025-04-12 09:10:38', 'available', 0, 0)]\n",
      "Update successful: True\n",
      "Updated product: [(21, 21, 'iPhone 12', 'Like new iPhone 12, 128GB', 549.99, 799.99, 'like new', 'New York', '2025-04-12 09:10:38', 'reserved', 0, 0)]\n",
      "Delete successful: True\n"
     ]
    }
   ],
   "source": [
    "# 添加产品\n",
    "product1_id = add_product(user1_id, 'iPhone 12', 'Like new iPhone 12, 128GB', 599.99, 799.99, 'like new', 'New York')\n",
    "product2_id = add_product(user1_id, 'MacBook Pro', '2020 MacBook Pro 13', 999.99, 1299.99, 'good', 'New York')\n",
    "print(f\"Added products with IDs: {product1_id}, {product2_id}\")\n",
    "\n",
    "# 查询产品\n",
    "products = get_products(seller_id=user1_id)\n",
    "print(\"All products by seller:\", products)\n",
    "expensive_products = get_products(min_price=800)\n",
    "print(\"Expensive products:\", expensive_products)\n",
    "\n",
    "# 更新产品\n",
    "update_success = update_product(product1_id, price=549.99, status='reserved')\n",
    "print(f\"Update successful: {update_success}\")\n",
    "updated_product = get_products(product_id=product1_id)\n",
    "print(\"Updated product:\", updated_product)\n",
    "\n",
    "# 删除产品\n",
    "delete_success = delete_product(product2_id)\n",
    "print(f\"Delete successful: {delete_success}\")"
   ]
  },
  {
   "cell_type": "markdown",
   "id": "392ef790",
   "metadata": {},
   "source": [
    "### 订单(Order)表的操作"
   ]
  },
  {
   "cell_type": "code",
   "execution_count": 30,
   "id": "ec4c1dac",
   "metadata": {},
   "outputs": [],
   "source": [
    "def create_order(product_id, buyer_id, seller_id, price, payment_method=None, shipping_address=None):\n",
    "    cursor.execute('''\n",
    "    INSERT INTO Order_ (product_id, buyer_id, seller_id, price, payment_method, shipping_address)\n",
    "    VALUES (?, ?, ?, ?, ?, ?)\n",
    "    ''', (product_id, buyer_id, seller_id, price, payment_method, shipping_address))\n",
    "    conn.commit()\n",
    "    return cursor.lastrowid\n",
    "\n",
    "def get_orders(order_id=None, buyer_id=None, seller_id=None, product_id=None, status=None):\n",
    "    query = 'SELECT * FROM Order_ WHERE '\n",
    "    conditions = []\n",
    "    params = []\n",
    "    \n",
    "    if order_id:\n",
    "        conditions.append('order_id = ?')\n",
    "        params.append(order_id)\n",
    "    if buyer_id:\n",
    "        conditions.append('buyer_id = ?')\n",
    "        params.append(buyer_id)\n",
    "    if seller_id:\n",
    "        conditions.append('seller_id = ?')\n",
    "        params.append(seller_id)\n",
    "    if product_id:\n",
    "        conditions.append('product_id = ?')\n",
    "        params.append(product_id)\n",
    "    if status:\n",
    "        conditions.append('status = ?')\n",
    "        params.append(status)\n",
    "    \n",
    "    if not conditions:\n",
    "        query = 'SELECT * FROM Order_'\n",
    "    else:\n",
    "        query += ' AND '.join(conditions)\n",
    "    \n",
    "    cursor.execute(query, params)\n",
    "    return cursor.fetchall()\n",
    "\n",
    "def update_order(order_id, status=None, payment_method=None, shipping_address=None, tracking_number=None):\n",
    "    updates = []\n",
    "    params = []\n",
    "    \n",
    "    if status:\n",
    "        updates.append('status = ?')\n",
    "        params.append(status)\n",
    "    if payment_method:\n",
    "        updates.append('payment_method = ?')\n",
    "        params.append(payment_method)\n",
    "    if shipping_address:\n",
    "        updates.append('shipping_address = ?')\n",
    "        params.append(shipping_address)\n",
    "    if tracking_number:\n",
    "        updates.append('tracking_number = ?')\n",
    "        params.append(tracking_number)\n",
    "    \n",
    "    if not updates:\n",
    "        return False\n",
    "    \n",
    "    params.append(order_id)\n",
    "    query = 'UPDATE Order_ SET ' + ', '.join(updates) + ' WHERE order_id = ?'\n",
    "    cursor.execute(query, params)\n",
    "    conn.commit()\n",
    "    return cursor.rowcount > 0\n",
    "\n",
    "\n",
    "def delete_order(order_id):\n",
    "    cursor.execute('DELETE FROM Order_ WHERE order_id = ?', (order_id,))\n",
    "    conn.commit()\n",
    "    return cursor.rowcount > 0"
   ]
  },
  {
   "cell_type": "code",
   "execution_count": 31,
   "id": "4bd4f47c",
   "metadata": {},
   "outputs": [
    {
     "name": "stdout",
     "output_type": "stream",
     "text": [
      "Created order with ID: 21\n",
      "Orders by buyer: [(21, 21, 23, 21, '2025-04-12 09:10:38', 549.99, 'pending', 'credit_card', '123 Main St, Anytown', None)]\n",
      "Update successful: True\n",
      "Updated order: [(21, 21, 23, 21, '2025-04-12 09:10:38', 549.99, 'paid', 'credit_card', '123 Main St, Anytown', 'USPS123456789')]\n",
      "Delete successful: True\n"
     ]
    }
   ],
   "source": [
    "# 添加另一个用户用于购买\n",
    "buyer_id = add_user('buyer_user', 'hashed_password789', '5551234567', 'buyer@example.com')\n",
    "\n",
    "# 创建订单\n",
    "order1_id = create_order(product1_id, buyer_id, user1_id, 549.99, 'credit_card', '123 Main St, Anytown')\n",
    "print(f\"Created order with ID: {order1_id}\")\n",
    "\n",
    "# 查询订单\n",
    "orders = get_orders(buyer_id=buyer_id)\n",
    "print(\"Orders by buyer:\", orders)\n",
    "\n",
    "# 更新订单\n",
    "update_success = update_order(order1_id, status='paid', tracking_number='USPS123456789')\n",
    "print(f\"Update successful: {update_success}\")\n",
    "updated_order = get_orders(order_id=order1_id)\n",
    "print(\"Updated order:\", updated_order)\n",
    "\n",
    "# 删除订单\n",
    "delete_success = delete_order(order1_id)\n",
    "print(f\"Delete successful: {delete_success}\")"
   ]
  },
  {
   "cell_type": "markdown",
   "id": "32f0317f",
   "metadata": {},
   "source": [
    "## 步骤五：前端web页面开发\n",
    "\n",
    "### 首页\n",
    "\n",
    "![首页](fig/1_home.png)\n",
    "\n",
    "### 我的收藏\n",
    "\n",
    "![我的收藏](fig/2_favorite.png)\n",
    "\n",
    "### 商品列表\n",
    "\n",
    "![商品列表](fig/3_product.png)\n",
    "\n",
    "### 订单管理\n",
    "\n",
    "![订单管理](fig/4_orders.png)\n",
    "\n",
    "### 登录界面\n",
    "\n",
    "![登录界面](fig/5_login.png)"
   ]
  }
 ],
 "metadata": {
  "kernelspec": {
   "display_name": "Python 3",
   "language": "python",
   "name": "python3"
  },
  "language_info": {
   "codemirror_mode": {
    "name": "ipython",
    "version": 3
   },
   "file_extension": ".py",
   "mimetype": "text/x-python",
   "name": "python",
   "nbconvert_exporter": "python",
   "pygments_lexer": "ipython3",
   "version": "3.12.2"
  }
 },
 "nbformat": 4,
 "nbformat_minor": 5
}
