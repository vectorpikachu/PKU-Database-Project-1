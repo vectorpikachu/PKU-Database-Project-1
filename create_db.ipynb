{
 "cells": [
  {
   "cell_type": "markdown",
   "id": "bf8e4d7b",
   "metadata": {},
   "source": [
    "# 步骤三：创建数据库"
   ]
  },
  {
   "cell_type": "code",
   "execution_count": 1,
   "id": "ba837ba6",
   "metadata": {},
   "outputs": [],
   "source": [
    "import sqlite3\n",
    "\n",
    "# 连接到 xianyu 数据库\n",
    "conn = sqlite3.connect('xianyu.db')\n",
    "cursor = conn.cursor()"
   ]
  },
  {
   "cell_type": "code",
   "execution_count": 9,
   "id": "916b12db",
   "metadata": {},
   "outputs": [],
   "source": [
    "# 打印指定表的结构（字段信息）\n",
    "def print_table_schema(table_name):\n",
    "    cursor.execute(f\"PRAGMA table_info({table_name});\")\n",
    "    columns = cursor.fetchall()\n",
    "\n",
    "    # 获取列的最大宽度\n",
    "    max_col_name_len = max(len(col[1]) for col in columns)\n",
    "    max_type_len = max(len(col[2]) for col in columns)\n",
    "\n",
    "    # 打印表头\n",
    "    print(f\"\\nTable {table_name}\\'s schema: \")\n",
    "    print(f\"{'Name'.ljust(max_col_name_len)} | {'Type'.ljust(max_type_len)} | Primary Key\")\n",
    "    print(\"-\" * (max_col_name_len + 3 + max_type_len + 3 + 4))\n",
    "\n",
    "    # 打印每一列的信息\n",
    "    for column in columns:\n",
    "        col_name = column[1]\n",
    "        col_type = column[2]\n",
    "        is_primary_key = \"Yes\" if column[5] else \"No\"\n",
    "        print(f\"{col_name.ljust(max_col_name_len)} | {col_type.ljust(max_type_len)} | {is_primary_key}\")"
   ]
  },
  {
   "cell_type": "code",
   "execution_count": null,
   "id": "b8071ab2",
   "metadata": {},
   "outputs": [],
   "source": [
    "## 创建用户(User)表"
   ]
  },
  {
   "cell_type": "code",
   "execution_count": 10,
   "id": "f040e268",
   "metadata": {},
   "outputs": [
    {
     "name": "stdout",
     "output_type": "stream",
     "text": [
      "\n",
      "Table User's schema: \n",
      "Name              | Type    | Primary Key\n",
      "----------------------------------\n",
      "user_id           | INTEGER | Yes\n",
      "username          | TEXT    | No\n",
      "password_hash     | TEXT    | No\n",
      "phone             | TEXT    | No\n",
      "email             | TEXT    | No\n",
      "credit_score      | INTEGER | No\n",
      "registration_date | TEXT    | No\n",
      "last_login        | TEXT    | No\n",
      "status            | TEXT    | No\n"
     ]
    }
   ],
   "source": [
    "# 创建用户表 (User)\n",
    "cursor.execute('''\n",
    "CREATE TABLE IF NOT EXISTS User (\n",
    "    user_id INTEGER PRIMARY KEY AUTOINCREMENT,\n",
    "    username TEXT NOT NULL,\n",
    "    password_hash TEXT NOT NULL,\n",
    "    phone TEXT UNIQUE,\n",
    "    email TEXT UNIQUE,\n",
    "    credit_score INTEGER DEFAULT 0,\n",
    "    registration_date TEXT DEFAULT (datetime('now')),\n",
    "    last_login TEXT,\n",
    "    status TEXT DEFAULT 'active'\n",
    ")\n",
    "''')\n",
    "print_table_schema('User')"
   ]
  },
  {
   "cell_type": "markdown",
   "id": "69a2c24a",
   "metadata": {},
   "source": [
    "## 创建商品(Product)表\n",
    "说明：`FOREIGN KEY (seller_id) REFERENCES User(user_id) ON DELETE CASCADE`O定义了一个外键约束，并且指定了当被引用的记录（即 User 表中的记录）被删除时所有在子表（如 Product 表）中通过外键与该记录相关联的行也会自动被删除。这是一种级联删除操作。"
   ]
  },
  {
   "cell_type": "code",
   "execution_count": 11,
   "id": "861ab6f9",
   "metadata": {},
   "outputs": [
    {
     "name": "stdout",
     "output_type": "stream",
     "text": [
      "\n",
      "Table Product's schema: \n",
      "Name           | Type    | Primary Key\n",
      "-------------------------------\n",
      "product_id     | INTEGER | Yes\n",
      "seller_id      | INTEGER | No\n",
      "title          | TEXT    | No\n",
      "description    | TEXT    | No\n",
      "price          | REAL    | No\n",
      "original_price | REAL    | No\n",
      "condition      | TEXT    | No\n",
      "location       | TEXT    | No\n",
      "post_date      | TEXT    | No\n",
      "status         | TEXT    | No\n",
      "view_count     | INTEGER | No\n",
      "fav_count      | INTEGER | No\n"
     ]
    }
   ],
   "source": [
    "# 创建商品表 (Product)\n",
    "cursor.execute('''\n",
    "CREATE TABLE IF NOT EXISTS Product (\n",
    "    product_id INTEGER PRIMARY KEY AUTOINCREMENT,\n",
    "    seller_id INTEGER NOT NULL,\n",
    "    title TEXT NOT NULL,\n",
    "    description TEXT,\n",
    "    price REAL NOT NULL,\n",
    "    original_price REAL,\n",
    "    condition TEXT CHECK(condition IN ('new', 'like new', 'good', 'fair', 'poor')),\n",
    "    location TEXT,\n",
    "    post_date TEXT DEFAULT (datetime('now')),\n",
    "    status TEXT DEFAULT 'available' CHECK(status IN ('available', 'reserved', 'sold', 'removed')),\n",
    "    view_count INTEGER DEFAULT 0,\n",
    "    fav_count INTEGER DEFAULT 0,\n",
    "    FOREIGN KEY (seller_id) REFERENCES User(user_id) ON DELETE CASCADE\n",
    ")\n",
    "''')\n",
    "print_table_schema('Product')"
   ]
  },
  {
   "cell_type": "markdown",
   "id": "23324bfc",
   "metadata": {},
   "source": [
    "## 创建订单(Order)表\n",
    "说明：注意 Order 是一个保留关键字，这里必须通过加下划线等方式避免。"
   ]
  },
  {
   "cell_type": "code",
   "execution_count": 14,
   "id": "d18d16e8",
   "metadata": {},
   "outputs": [
    {
     "name": "stdout",
     "output_type": "stream",
     "text": [
      "\n",
      "Table Order_'s schema: \n",
      "Name             | Type    | Primary Key\n",
      "---------------------------------\n",
      "order_id         | INTEGER | Yes\n",
      "product_id       | INTEGER | No\n",
      "buyer_id         | INTEGER | No\n",
      "seller_id        | INTEGER | No\n",
      "order_date       | TEXT    | No\n",
      "price            | REAL    | No\n",
      "status           | TEXT    | No\n",
      "payment_method   | TEXT    | No\n",
      "shipping_address | TEXT    | No\n",
      "tracking_number  | TEXT    | No\n"
     ]
    }
   ],
   "source": [
    "# 创建订单表 (Order)\n",
    "cursor.execute('''\n",
    "CREATE TABLE IF NOT EXISTS Order_ (\n",
    "    order_id INTEGER PRIMARY KEY AUTOINCREMENT,\n",
    "    product_id INTEGER NOT NULL,\n",
    "    buyer_id INTEGER NOT NULL,\n",
    "    seller_id INTEGER NOT NULL,\n",
    "    order_date TEXT DEFAULT (datetime('now')),\n",
    "    price REAL NOT NULL,\n",
    "    status TEXT DEFAULT 'pending' CHECK(status IN ('pending', 'paid', 'shipped', 'completed', 'cancelled')),\n",
    "    payment_method TEXT,\n",
    "    shipping_address TEXT,\n",
    "    tracking_number TEXT,\n",
    "    FOREIGN KEY (product_id) REFERENCES Product(product_id) ON DELETE CASCADE,\n",
    "    FOREIGN KEY (buyer_id) REFERENCES User(user_id) ON DELETE CASCADE,\n",
    "    FOREIGN KEY (seller_id) REFERENCES User(user_id) ON DELETE CASCADE\n",
    ")\n",
    "''')\n",
    "print_table_schema('Order_')"
   ]
  },
  {
   "cell_type": "markdown",
   "id": "30c98f0a",
   "metadata": {},
   "source": [
    "## 创建消息(Message)表"
   ]
  },
  {
   "cell_type": "code",
   "execution_count": 15,
   "id": "a24c85eb",
   "metadata": {},
   "outputs": [
    {
     "name": "stdout",
     "output_type": "stream",
     "text": [
      "\n",
      "Table Message's schema: \n",
      "Name        | Type    | Primary Key\n",
      "----------------------------\n",
      "message_id  | INTEGER | Yes\n",
      "sender_id   | INTEGER | No\n",
      "receiver_id | INTEGER | No\n",
      "product_id  | INTEGER | No\n",
      "content     | TEXT    | No\n",
      "send_time   | TEXT    | No\n",
      "is_read     | INTEGER | No\n"
     ]
    }
   ],
   "source": [
    "# 创建消息表 (Message)\n",
    "cursor.execute('''\n",
    "CREATE TABLE IF NOT EXISTS Message (\n",
    "    message_id INTEGER PRIMARY KEY AUTOINCREMENT,\n",
    "    sender_id INTEGER NOT NULL,\n",
    "    receiver_id INTEGER NOT NULL,\n",
    "    product_id INTEGER,\n",
    "    content TEXT NOT NULL,\n",
    "    send_time TEXT DEFAULT (datetime('now')),\n",
    "    is_read INTEGER DEFAULT 0,\n",
    "    FOREIGN KEY (sender_id) REFERENCES User(user_id) ON DELETE CASCADE,\n",
    "    FOREIGN KEY (receiver_id) REFERENCES User(user_id) ON DELETE CASCADE,\n",
    "    FOREIGN KEY (product_id) REFERENCES Product(product_id) ON DELETE SET NULL\n",
    ")\n",
    "''')\n",
    "print_table_schema('Message')"
   ]
  },
  {
   "cell_type": "markdown",
   "id": "ae0120bf",
   "metadata": {},
   "source": [
    "## 创建收藏(Favorite)表\n",
    "说明：`UNIQUE (user_id, product_id)` 约束确保了同一个用户不能收藏同一件商品多次。"
   ]
  },
  {
   "cell_type": "code",
   "execution_count": 16,
   "id": "70ade075",
   "metadata": {},
   "outputs": [
    {
     "name": "stdout",
     "output_type": "stream",
     "text": [
      "\n",
      "Table Favorite's schema: \n",
      "Name        | Type    | Primary Key\n",
      "----------------------------\n",
      "favorite_id | INTEGER | Yes\n",
      "user_id     | INTEGER | No\n",
      "product_id  | INTEGER | No\n",
      "add_date    | TEXT    | No\n"
     ]
    }
   ],
   "source": [
    "# 创建收藏表 (Favorite)\n",
    "cursor.execute('''\n",
    "CREATE TABLE IF NOT EXISTS Favorite (\n",
    "    favorite_id INTEGER PRIMARY KEY AUTOINCREMENT,\n",
    "    user_id INTEGER NOT NULL,\n",
    "    product_id INTEGER NOT NULL,\n",
    "    add_date TEXT DEFAULT (datetime('now')),\n",
    "    UNIQUE(user_id, product_id),\n",
    "    FOREIGN KEY (user_id) REFERENCES User(user_id) ON DELETE CASCADE,\n",
    "    FOREIGN KEY (product_id) REFERENCES Product(product_id) ON DELETE CASCADE\n",
    ")\n",
    "''')\n",
    "print_table_schema('Favorite')"
   ]
  }
 ],
 "metadata": {
  "kernelspec": {
   "display_name": "Python 3",
   "language": "python",
   "name": "python3"
  },
  "language_info": {
   "codemirror_mode": {
    "name": "ipython",
    "version": 3
   },
   "file_extension": ".py",
   "mimetype": "text/x-python",
   "name": "python",
   "nbconvert_exporter": "python",
   "pygments_lexer": "ipython3",
   "version": "3.12.2"
  }
 },
 "nbformat": 4,
 "nbformat_minor": 5
}
