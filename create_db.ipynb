{
 "cells": [
  {
   "cell_type": "markdown",
   "id": "bf8e4d7b",
   "metadata": {},
   "source": [
    "# 步骤三：创建数据库"
   ]
  },
  {
   "cell_type": "code",
   "execution_count": null,
   "id": "ba837ba6",
   "metadata": {},
   "outputs": [],
   "source": [
    "import sqlite3\n",
    "import random\n",
    "import hashlib\n",
    "from datetime import datetime\n",
    "import faker\n",
    "\n",
    "fake = faker.Faker()\n",
    "\n",
    "# 连接到 xianyu 数据库\n",
    "conn = sqlite3.connect('xianyu.db')\n",
    "cursor = conn.cursor()"
   ]
  },
  {
   "cell_type": "code",
   "execution_count": 2,
   "id": "916b12db",
   "metadata": {},
   "outputs": [],
   "source": [
    "# 打印指定表的结构（字段信息）\n",
    "def print_table_schema(table_name):\n",
    "    cursor.execute(f\"PRAGMA table_info({table_name});\")\n",
    "    columns = cursor.fetchall()\n",
    "\n",
    "    # 获取列的最大宽度\n",
    "    max_col_name_len = max(len(col[1]) for col in columns)\n",
    "    max_type_len = max(len(col[2]) for col in columns)\n",
    "\n",
    "    # 打印表头\n",
    "    print(f\"\\nTable {table_name}\\'s schema: \")\n",
    "    print(f\"{'Name'.ljust(max_col_name_len)} | {'Type'.ljust(max_type_len)} | Primary Key\")\n",
    "    print(\"-\" * (max_col_name_len + 3 + max_type_len + 3 + 4))\n",
    "\n",
    "    # 打印每一列的信息\n",
    "    for column in columns:\n",
    "        col_name = column[1]\n",
    "        col_type = column[2]\n",
    "        is_primary_key = \"Yes\" if column[5] else \"No\"\n",
    "        print(f\"{col_name.ljust(max_col_name_len)} | {col_type.ljust(max_type_len)} | {is_primary_key}\")"
   ]
  },
  {
   "cell_type": "code",
   "execution_count": 3,
   "id": "b015c889",
   "metadata": {},
   "outputs": [],
   "source": [
    "# 打印指定表的数据\n",
    "def print_table_data(table_name):\n",
    "    try:\n",
    "        cursor.execute(f\"SELECT * FROM {table_name}\")\n",
    "        rows = cursor.fetchall()\n",
    "        col_names = [desc[0] for desc in cursor.description]\n",
    "\n",
    "        # 计算每一列的最大宽度（包括字段名和每条记录）\n",
    "        col_widths = [len(name) for name in col_names]\n",
    "        for row in rows:\n",
    "            for i, value in enumerate(row):\n",
    "                col_widths[i] = max(col_widths[i], len(str(value)) if value is not None else 4)\n",
    "\n",
    "        # 打印表头\n",
    "        print(f\"\\nTable: {table_name}\")\n",
    "        print(\"-\" * (sum(col_widths) + 3 * len(col_widths)))\n",
    "        header = \" | \".join(name.ljust(col_widths[i]) for i, name in enumerate(col_names))\n",
    "        print(header)\n",
    "        print(\"-\" * (sum(col_widths) + 3 * len(col_widths)))\n",
    "\n",
    "        # 打印每一行数据\n",
    "        if rows:\n",
    "            for row in rows:\n",
    "                line = \" | \".join(\n",
    "                    (str(item) if item is not None else \"NULL\").ljust(col_widths[i])\n",
    "                    for i, item in enumerate(row)\n",
    "                )\n",
    "                print(line)\n",
    "        else:\n",
    "            print(\"(Empty Table)\")\n",
    "    except sqlite3.Error as e:\n",
    "        print(f\"Failed: {e}\")"
   ]
  },
  {
   "cell_type": "code",
   "execution_count": 4,
   "id": "df216b4c",
   "metadata": {},
   "outputs": [],
   "source": [
    "def empty_table(table_name):\n",
    "    try:\n",
    "        cursor.execute(f\"DELETE FROM {table_name}\")\n",
    "        cursor.execute(f\"DELETE FROM sqlite_sequence WHERE name='{table_name}'\")\n",
    "        conn.commit()\n",
    "        print(f\"Table {table_name} emptied successfully.\")\n",
    "    except sqlite3.Error as e:\n",
    "        print(f\"Failed to empty table {table_name}: {e}\")"
   ]
  },
  {
   "cell_type": "markdown",
   "id": "b8071ab2",
   "metadata": {},
   "source": [
    "## 创建用户(User)表"
   ]
  },
  {
   "cell_type": "code",
   "execution_count": 6,
   "id": "f040e268",
   "metadata": {
    "tags": [
     "mono"
    ]
   },
   "outputs": [
    {
     "name": "stdout",
     "output_type": "stream",
     "text": [
      "\n",
      "Table User's schema: \n",
      "Name              | Type    | Primary Key\n",
      "----------------------------------\n",
      "user_id           | INTEGER | Yes\n",
      "username          | TEXT    | No\n",
      "password_hash     | TEXT    | No\n",
      "phone             | TEXT    | No\n",
      "email             | TEXT    | No\n",
      "credit_score      | INTEGER | No\n",
      "registration_date | TEXT    | No\n",
      "last_login        | TEXT    | No\n",
      "status            | TEXT    | No\n"
     ]
    }
   ],
   "source": [
    "# 创建用户表 (User)\n",
    "cursor.execute('''\n",
    "CREATE TABLE IF NOT EXISTS User (\n",
    "    user_id INTEGER PRIMARY KEY AUTOINCREMENT,\n",
    "    username TEXT NOT NULL,\n",
    "    password_hash TEXT NOT NULL,\n",
    "    phone TEXT UNIQUE,\n",
    "    email TEXT UNIQUE,\n",
    "    credit_score INTEGER DEFAULT 0,\n",
    "    registration_date TEXT DEFAULT (datetime('now')),\n",
    "    last_login TEXT,\n",
    "    status TEXT DEFAULT 'active'\n",
    ")\n",
    "''')\n",
    "print_table_schema('User')"
   ]
  },
  {
   "cell_type": "code",
   "execution_count": 7,
   "id": "52f753b1",
   "metadata": {},
   "outputs": [],
   "source": [
    "# 用于生成假密码 hash\n",
    "def generate_password_hash(password):\n",
    "    return hashlib.sha256(password.encode('utf-8')).hexdigest()"
   ]
  },
  {
   "cell_type": "code",
   "execution_count": 8,
   "id": "870cd89e",
   "metadata": {},
   "outputs": [
    {
     "name": "stdout",
     "output_type": "stream",
     "text": [
      "Table User emptied successfully.\n"
     ]
    }
   ],
   "source": [
    "empty_table('User')"
   ]
  },
  {
   "cell_type": "code",
   "execution_count": 9,
   "id": "9575ee34",
   "metadata": {},
   "outputs": [],
   "source": [
    "for _ in range(20):\n",
    "    username = fake.user_name()\n",
    "    password = generate_password_hash(fake.password())\n",
    "    phone = fake.unique.phone_number()\n",
    "    email = fake.unique.email()\n",
    "    credit_score = random.randint(300, 850)\n",
    "    registration_date = fake.date_time_between(start_date='-2y', end_date='now').strftime('%Y-%m-%d %H:%M:%S')\n",
    "    last_login = fake.date_time_between(start_date=datetime.strptime(registration_date, '%Y-%m-%d %H:%M:%S'), end_date='now').strftime('%Y-%m-%d %H:%M:%S')\n",
    "    status = random.choice(['active', 'inactive', 'banned'])\n",
    "\n",
    "    cursor.execute('''\n",
    "        INSERT INTO User (username, password_hash, phone, email, credit_score, registration_date, last_login, status)\n",
    "        VALUES (?, ?, ?, ?, ?, ?, ?, ?)\n",
    "    ''', (username, password, phone, email, credit_score, registration_date, last_login, status))\n",
    "\n",
    "conn.commit() # 写入数据库中"
   ]
  },
  {
   "cell_type": "code",
   "execution_count": 10,
   "id": "7167cc76",
   "metadata": {
    "tags": [
     "mono"
    ]
   },
   "outputs": [
    {
     "name": "stdout",
     "output_type": "stream",
     "text": [
      "\n",
      "Table: User\n",
      "---------------------------------------------------------------------------------------------------------------------------------------------------------------------------------------------------------------------------\n",
      "user_id | username        | password_hash                                                    | phone                  | email                      | credit_score | registration_date   | last_login          | status  \n",
      "---------------------------------------------------------------------------------------------------------------------------------------------------------------------------------------------------------------------------\n",
      "1       | erikamichael    | f9f6db98fb24e4d1554e21f34bd04f81339b06d6bf896bd501449fc1170e3470 | 001-575-730-6762x62022 | kocheileen@example.com     | 694          | 2024-02-24 04:30:24 | 2024-04-18 06:48:47 | inactive\n",
      "2       | youngjustin     | 7f488cc2fc0423047b20eef88240cb3b55787874819b14d9fb76878a97e82d0c | 845.383.3160x039       | zbriggs@example.net        | 738          | 2025-03-30 23:17:53 | 2025-04-04 05:06:58 | active  \n",
      "3       | joshua57        | d1b8bedce568d094e709a0dd504e6bf54bbf945854b542073ecba6d62eac39fc | 745-729-7681x81908     | tammymcmahon@example.com   | 689          | 2024-05-02 14:27:40 | 2024-08-13 20:42:04 | banned  \n",
      "4       | lrose           | 7c39b0ab4446106c96bc143f15ae2494031e8ac571d27b9726b03f18d376993b | 993-990-2427x4321      | mcdonaldglenn@example.org  | 652          | 2024-10-14 21:15:42 | 2024-11-22 07:25:39 | banned  \n",
      "5       | rachel01        | b9865c743d7ef0e740b549b40a50cef34cdca645928c3fd4b10a2c4c1b2a0626 | (336)509-2742x874      | hobbsjonathan@example.com  | 587          | 2025-01-05 18:55:55 | 2025-03-25 21:38:55 | banned  \n",
      "6       | schaefermartin  | 45caf7d776e2fe1ea0b0c5e12463da1646083a62b7a18ed657692e99212bce0b | 888.497.9686x309       | connersteven@example.net   | 646          | 2023-05-15 22:05:51 | 2025-02-26 15:22:13 | active  \n",
      "7       | lisa53          | cdf3f59f7f6daca9283153c39b733a433c88a186e4f1c55a5d3a8c0fa435436d | (390)666-8527          | rmaddox@example.net        | 374          | 2024-07-02 06:52:19 | 2024-11-06 02:33:57 | active  \n",
      "8       | hortiz          | 9725126bb5683cee2c86934d79671e411662f29bb92630a1b7e86742eea1d9a1 | 780-349-9953x291       | swansonmichael@example.org | 341          | 2024-12-01 12:36:50 | 2025-01-24 15:23:26 | inactive\n",
      "9       | hbruce          | 09c3e1c69a3204bdde46a990cca1d75663f7348334133e471b2b4aec90b9eab8 | 910.886.1604           | johnpeterson@example.org   | 703          | 2024-05-07 02:58:09 | 2024-07-06 17:37:50 | active  \n",
      "10      | jose01          | 6e119ce715ae721f4ae6e4cc662084ac7a29ff79697d05c7c0e808e694ef37ca | +1-918-948-1762x964    | vincentmiller@example.com  | 691          | 2025-03-05 05:43:01 | 2025-03-26 16:06:50 | banned  \n",
      "11      | leerobert       | ba512356634e9f7bebf745ad807c7d7e7ebc65612cbd1bf3d7fc61e5f8cecd3f | 934.415.5726x68472     | tmoyer@example.com         | 850          | 2024-09-14 03:24:15 | 2025-03-03 02:33:30 | active  \n",
      "12      | thompsonmatthew | cdb9edce3e33f3f9ae6d70431cc5108fc8b7d116df2b5b77f12c13f30b2ea602 | 001-943-606-7239x168   | grimesrobert@example.net   | 540          | 2024-06-13 02:55:31 | 2024-09-01 02:34:34 | inactive\n",
      "13      | miguel42        | 8c44fd95b5ac3e592554ca7058887f4289458eff53e7f8af3a072ac9e1033dc6 | 327.661.6007           | catherine98@example.org    | 361          | 2023-05-05 04:20:30 | 2025-03-10 04:21:47 | inactive\n",
      "14      | zwilkerson      | b44a603229228d87466b5a8f333123b9521e26ad4d0b7bfeeca28a69f826a8e6 | 209.602.8269x0711      | dgarcia@example.com        | 566          | 2023-07-30 17:12:01 | 2024-03-16 17:31:20 | active  \n",
      "15      | brendapugh      | faacea8af55b8524747744bf9e953ce3cac3fb0be844b8595bc3ea3c70cb69dc | (802)927-7706x307      | xschmitt@example.org       | 563          | 2024-07-03 22:35:20 | 2024-09-24 10:06:53 | banned  \n",
      "16      | simonjeffrey    | 5ebcaacc73def41e00e96ee0eb07c45b2ea959ae82634de313164bdc04c8fca8 | 001-645-587-3641x856   | doylebrian@example.org     | 304          | 2023-10-26 01:14:29 | 2025-03-18 16:44:52 | inactive\n",
      "17      | zmcdaniel       | bb5ff0fbbde37b0cb957970f0380d5155ffa6cd3725a3a35c1133b345166a9de | +1-980-409-6656x366    | evanroberts@example.org    | 642          | 2024-07-31 19:42:32 | 2025-02-19 20:36:56 | banned  \n",
      "18      | william00       | 2d3fac4443ab3a82480bd74671f5bd7a7990100d12d5aab5dcb1294da5385775 | 001-915-989-3645x289   | peterhopkins@example.org   | 460          | 2024-02-04 03:40:45 | 2024-10-20 00:37:23 | active  \n",
      "19      | john01          | 6c1c3cb27ce4cb58b87497fed19aa4b98a3a7a9a6e09498f5032c3d268eb7f8c | 001-252-666-7863x6495  | johnsonthomas@example.com  | 654          | 2024-06-29 16:46:32 | 2024-11-07 14:58:30 | active  \n",
      "20      | lisashaw        | 9590bed663b92fedca3836947b65b30a667f71ae3d341ff2754cc62627fbb45e | 001-648-933-4587x7578  | ruizjames@example.com      | 694          | 2024-08-15 03:12:44 | 2025-02-22 21:10:27 | inactive\n"
     ]
    }
   ],
   "source": [
    "print_table_data('User')"
   ]
  },
  {
   "cell_type": "markdown",
   "id": "69a2c24a",
   "metadata": {},
   "source": [
    "## 创建商品(Product)表\n",
    "说明：`FOREIGN KEY (seller_id) REFERENCES User(user_id) ON DELETE CASCADE` 定义了一个外键约束，并且指定了当被引用的记录（即 User 表中的记录）被删除时所有在子表（如 Product 表）中通过外键与该记录相关联的行也会自动被删除。这是一种级联删除操作。"
   ]
  },
  {
   "cell_type": "code",
   "execution_count": 11,
   "id": "861ab6f9",
   "metadata": {
    "tags": [
     "mono"
    ]
   },
   "outputs": [
    {
     "name": "stdout",
     "output_type": "stream",
     "text": [
      "\n",
      "Table Product's schema: \n",
      "Name           | Type    | Primary Key\n",
      "-------------------------------\n",
      "product_id     | INTEGER | Yes\n",
      "seller_id      | INTEGER | No\n",
      "title          | TEXT    | No\n",
      "description    | TEXT    | No\n",
      "price          | REAL    | No\n",
      "original_price | REAL    | No\n",
      "condition      | TEXT    | No\n",
      "location       | TEXT    | No\n",
      "post_date      | TEXT    | No\n",
      "status         | TEXT    | No\n",
      "view_count     | INTEGER | No\n",
      "fav_count      | INTEGER | No\n"
     ]
    }
   ],
   "source": [
    "# 创建商品表 (Product)\n",
    "cursor.execute('''\n",
    "CREATE TABLE IF NOT EXISTS Product (\n",
    "    product_id INTEGER PRIMARY KEY AUTOINCREMENT,\n",
    "    seller_id INTEGER NOT NULL,\n",
    "    title TEXT NOT NULL,\n",
    "    description TEXT,\n",
    "    price REAL NOT NULL,\n",
    "    original_price REAL,\n",
    "    condition TEXT CHECK(condition IN ('new', 'like new', 'good', 'fair', 'poor')),\n",
    "    location TEXT,\n",
    "    post_date TEXT DEFAULT (datetime('now')),\n",
    "    status TEXT DEFAULT 'available' CHECK(status IN ('available', 'reserved', 'sold', 'removed')),\n",
    "    view_count INTEGER DEFAULT 0,\n",
    "    fav_count INTEGER DEFAULT 0,\n",
    "    FOREIGN KEY (seller_id) REFERENCES User(user_id) ON DELETE CASCADE\n",
    ")\n",
    "''')\n",
    "print_table_schema('Product')"
   ]
  },
  {
   "cell_type": "code",
   "execution_count": 12,
   "id": "e2b51f2d",
   "metadata": {},
   "outputs": [
    {
     "name": "stdout",
     "output_type": "stream",
     "text": [
      "Table Product emptied successfully.\n"
     ]
    }
   ],
   "source": [
    "empty_table('Product')"
   ]
  },
  {
   "cell_type": "code",
   "execution_count": 13,
   "id": "0c02724c",
   "metadata": {},
   "outputs": [],
   "source": [
    "for _ in range(20):\n",
    "    seller_id = random.randint(1, 5)  # 假设有5个卖家\n",
    "    title = fake.word().capitalize() + \" \" + fake.word().capitalize()  # 商品标题\n",
    "    description = fake.sentence(nb_words=10)  # 商品描述\n",
    "    price = round(random.uniform(10.0, 1000.0), 2)  # 商品价格\n",
    "    original_price = round(price * random.uniform(1.0, 1.5), 2)  # 原价比价格高\n",
    "    condition = random.choice(['new', 'like new', 'good', 'fair', 'poor'])  # 商品条件\n",
    "    location = fake.city()  # 商品所在城市\n",
    "    post_date = fake.date_this_year().strftime('%Y-%m-%d')  # 发布日期\n",
    "    status = random.choice(['available', 'reserved', 'sold', 'removed'])  # 商品状态\n",
    "    view_count = random.randint(0, 500)  # 浏览数\n",
    "    fav_count = random.randint(0, 100)  # 收藏数\n",
    "\n",
    "    cursor.execute('''\n",
    "        INSERT INTO Product (seller_id, title, description, price, original_price, condition, location, post_date, status, view_count, fav_count)\n",
    "        VALUES (?, ?, ?, ?, ?, ?, ?, ?, ?, ?, ?)\n",
    "    ''', (seller_id, title, description, price, original_price, condition, location, post_date, status, view_count, fav_count))\n",
    "\n",
    "conn.commit()"
   ]
  },
  {
   "cell_type": "code",
   "execution_count": 14,
   "id": "7e3c8119",
   "metadata": {
    "tags": [
     "mono"
    ]
   },
   "outputs": [
    {
     "name": "stdout",
     "output_type": "stream",
     "text": [
      "\n",
      "Table: Product\n",
      "-------------------------------------------------------------------------------------------------------------------------------------------------------------------------------------------------------------------------------------------------------\n",
      "product_id | seller_id | title             | description                                                                                  | price  | original_price | condition | location         | post_date  | status    | view_count | fav_count\n",
      "-------------------------------------------------------------------------------------------------------------------------------------------------------------------------------------------------------------------------------------------------------\n",
      "1          | 4         | Write Make        | Sing but prove ability yeah unit upon hospital every.                                        | 883.07 | 1217.14        | poor      | Port Michael     | 2025-03-28 | available | 191        | 71       \n",
      "2          | 1         | Theory Involve    | Mr space our life house more vote important reach wind since trade include level.            | 713.16 | 864.68         | fair      | Montgomerymouth  | 2025-03-10 | available | 481        | 43       \n",
      "3          | 4         | I Left            | Age call mother side process which itself stuff.                                             | 617.36 | 701.76         | fair      | Port Suzannestad | 2025-03-25 | available | 423        | 46       \n",
      "4          | 1         | Pull Health       | Face meeting road too should my decision quality leader teacher local.                       | 202.11 | 298.19         | fair      | West Thomas      | 2025-01-11 | sold      | 247        | 2        \n",
      "5          | 2         | Go Firm           | Environmental member here time moment girl pretty seven home after happy.                    | 602.72 | 800.36         | new       | Jonesberg        | 2025-01-17 | removed   | 280        | 5        \n",
      "6          | 1         | The Order         | Forget down bad ever social brother general thank main.                                      | 157.37 | 162.81         | fair      | Thompsonberg     | 2025-01-08 | sold      | 281        | 3        \n",
      "7          | 1         | Treat College     | Computer more bit box plant wall effort.                                                     | 539.28 | 735.55         | fair      | Jameston         | 2025-03-08 | removed   | 380        | 15       \n",
      "8          | 2         | Bank Interesting  | Focus pressure final commercial tree sure which president parent.                            | 157.83 | 160.25         | poor      | West Lisa        | 2025-01-25 | reserved  | 399        | 21       \n",
      "9          | 5         | Call Treatment    | Hold large way situation accept money no former scientist foreign tonight general mouth.     | 604.89 | 621.72         | good      | Kerrbury         | 2025-03-10 | removed   | 394        | 1        \n",
      "10         | 2         | Particularly Home | Through skin important all pick give common most.                                            | 400.2  | 494.41         | new       | New Helenfort    | 2025-02-14 | available | 216        | 3        \n",
      "11         | 5         | Fear Number       | Across despite your he view should large carry.                                              | 401.86 | 516.34         | good      | East Robert      | 2025-01-17 | sold      | 206        | 71       \n",
      "12         | 3         | At Much           | Still property attack suddenly senior media history sometimes everything whose.              | 399.03 | 469.51         | poor      | Masonside        | 2025-03-11 | available | 1          | 44       \n",
      "13         | 3         | Remember Music    | Store west daughter leader because set perform away.                                         | 955.46 | 1235.72        | fair      | Lisamouth        | 2025-01-27 | removed   | 69         | 39       \n",
      "14         | 3         | Off Pull          | Rest discuss leave hot join allow.                                                           | 925.46 | 1251.36        | good      | Michellemouth    | 2025-01-29 | sold      | 14         | 53       \n",
      "15         | 2         | Coach Identify    | Always data window have see new notice fly forward force play case what.                     | 12.52  | 14.74          | good      | Lake Stephanie   | 2025-03-25 | reserved  | 220        | 85       \n",
      "16         | 2         | Two News          | System performance although agreement alone daughter tree.                                   | 867.0  | 1159.92        | new       | Bennettberg      | 2025-04-03 | reserved  | 472        | 66       \n",
      "17         | 2         | Agree Term        | Several author from anything politics simply rich tonight computer relationship whole often. | 622.01 | 897.38         | new       | Craigmouth       | 2025-02-28 | removed   | 246        | 72       \n",
      "18         | 1         | Within Size       | Enter why base cell lead ball.                                                               | 485.17 | 511.86         | poor      | Duranborough     | 2025-03-06 | removed   | 75         | 100      \n",
      "19         | 5         | Senior Born       | Weight every exist own guess yet record again possible ever cut.                             | 213.3  | 224.53         | fair      | Richmondport     | 2025-02-01 | available | 94         | 30       \n",
      "20         | 1         | Production Job    | See second common small develop prevent seem show analysis society.                          | 35.65  | 53.14          | good      | East Desiree     | 2025-01-21 | sold      | 297        | 83       \n"
     ]
    }
   ],
   "source": [
    "print_table_data('Product')"
   ]
  },
  {
   "cell_type": "markdown",
   "id": "23324bfc",
   "metadata": {},
   "source": [
    "## 创建订单(Order)表\n",
    "说明：注意 Order 是一个保留关键字，这里必须通过加下划线等方式避免。"
   ]
  },
  {
   "cell_type": "code",
   "execution_count": 15,
   "id": "d18d16e8",
   "metadata": {
    "tags": [
     "mono"
    ]
   },
   "outputs": [
    {
     "name": "stdout",
     "output_type": "stream",
     "text": [
      "\n",
      "Table Order_'s schema: \n",
      "Name             | Type    | Primary Key\n",
      "---------------------------------\n",
      "order_id         | INTEGER | Yes\n",
      "product_id       | INTEGER | No\n",
      "buyer_id         | INTEGER | No\n",
      "seller_id        | INTEGER | No\n",
      "order_date       | TEXT    | No\n",
      "price            | REAL    | No\n",
      "status           | TEXT    | No\n",
      "payment_method   | TEXT    | No\n",
      "shipping_address | TEXT    | No\n",
      "tracking_number  | TEXT    | No\n"
     ]
    }
   ],
   "source": [
    "# 创建订单表 (Order)\n",
    "cursor.execute('''\n",
    "CREATE TABLE IF NOT EXISTS Order_ (\n",
    "    order_id INTEGER PRIMARY KEY AUTOINCREMENT,\n",
    "    product_id INTEGER NOT NULL,\n",
    "    buyer_id INTEGER NOT NULL,\n",
    "    seller_id INTEGER NOT NULL,\n",
    "    order_date TEXT DEFAULT (datetime('now')),\n",
    "    price REAL NOT NULL,\n",
    "    status TEXT DEFAULT 'pending' CHECK(status IN ('pending', 'paid', 'shipped', 'completed', 'cancelled')),\n",
    "    payment_method TEXT,\n",
    "    shipping_address TEXT,\n",
    "    tracking_number TEXT,\n",
    "    FOREIGN KEY (product_id) REFERENCES Product(product_id) ON DELETE CASCADE,\n",
    "    FOREIGN KEY (buyer_id) REFERENCES User(user_id) ON DELETE CASCADE,\n",
    "    FOREIGN KEY (seller_id) REFERENCES User(user_id) ON DELETE CASCADE\n",
    ")\n",
    "''')\n",
    "print_table_schema('Order_')"
   ]
  },
  {
   "cell_type": "code",
   "execution_count": 16,
   "id": "47034119",
   "metadata": {},
   "outputs": [
    {
     "name": "stdout",
     "output_type": "stream",
     "text": [
      "Table Order_ emptied successfully.\n"
     ]
    }
   ],
   "source": [
    "empty_table('Order_')"
   ]
  },
  {
   "cell_type": "code",
   "execution_count": 17,
   "id": "903a84e3",
   "metadata": {},
   "outputs": [],
   "source": [
    "for _ in range(20):\n",
    "    product_id = random.randint(1, 20)  # 随机选择产品ID (假设Product表有20条数据)\n",
    "    buyer_id = random.randint(1, 10)    # 假设有10个买家\n",
    "    seller_id = random.randint(1, 5)   # 假设有5个卖家\n",
    "    price = round(random.uniform(10.0, 1000.0), 2)  # 订单价格\n",
    "    status = random.choice(['pending', 'paid', 'shipped', 'completed', 'cancelled'])  # 订单状态\n",
    "    payment_method = random.choice(['credit card', 'paypal', 'bank transfer', 'cash'])  # 支付方式\n",
    "    shipping_address = fake.address().replace(\"\\n\", \", \")  # 随机生成地址\n",
    "    tracking_number = fake.uuid4()  # 随机生成跟踪号\n",
    "\n",
    "    cursor.execute('''\n",
    "        INSERT INTO Order_ (product_id, buyer_id, seller_id, order_date, price, status, payment_method, shipping_address, tracking_number)\n",
    "        VALUES (?, ?, ?, datetime('now'), ?, ?, ?, ?, ?)\n",
    "    ''', (product_id, buyer_id, seller_id, price, status, payment_method, shipping_address, tracking_number))\n",
    "\n",
    "# 提交事务\n",
    "conn.commit()"
   ]
  },
  {
   "cell_type": "code",
   "execution_count": 18,
   "id": "c3f9a4d0",
   "metadata": {
    "tags": [
     "mono"
    ]
   },
   "outputs": [
    {
     "name": "stdout",
     "output_type": "stream",
     "text": [
      "\n",
      "Table: Order_\n",
      "---------------------------------------------------------------------------------------------------------------------------------------------------------------------------------------------------------------\n",
      "order_id | product_id | buyer_id | seller_id | order_date          | price  | status    | payment_method | shipping_address                                           | tracking_number                     \n",
      "---------------------------------------------------------------------------------------------------------------------------------------------------------------------------------------------------------------\n",
      "1        | 1          | 5        | 5         | 2025-04-11 12:41:43 | 127.65 | cancelled | bank transfer  | 6879 Marquez Junction, Jessicamouth, GA 86574              | a5441c3f-3fb1-4c2c-9326-52782ed12fff\n",
      "2        | 14         | 10       | 2         | 2025-04-11 12:41:43 | 344.23 | completed | cash           | 933 Catherine Lakes Apt. 192, New Christina, NV 88925      | 5d857c1e-7a42-438e-ace0-8d3e2a860976\n",
      "3        | 2          | 10       | 3         | 2025-04-11 12:41:43 | 331.66 | pending   | credit card    | 40214 Robert Estate, West Christopher, AR 97764            | a19fe260-887a-4b09-a92b-9e5cf6f7dda5\n",
      "4        | 3          | 7        | 4         | 2025-04-11 12:41:43 | 354.43 | pending   | cash           | 2286 Thomas Coves Apt. 798, Williamberg, WA 33960          | 72991acc-119c-4713-a5fd-164f812a7849\n",
      "5        | 18         | 3        | 1         | 2025-04-11 12:41:43 | 47.32  | paid      | cash           | 90478 Reese Way, East Yolanda, WA 48859                    | 280f9fef-9524-4399-96ca-f9e4cc8dfd00\n",
      "6        | 18         | 4        | 3         | 2025-04-11 12:41:43 | 575.94 | cancelled | bank transfer  | 142 John Unions, East Scott, VT 99326                      | b2c34ed4-d29b-401a-b228-e5cba61c9b02\n",
      "7        | 20         | 5        | 1         | 2025-04-11 12:41:43 | 500.11 | cancelled | bank transfer  | 53404 Rowe Roads Suite 990, Michaelfurt, SD 94437          | 24428c31-229c-4777-b7d2-04c177f76896\n",
      "8        | 7          | 5        | 1         | 2025-04-11 12:41:43 | 539.79 | cancelled | paypal         | 5968 Heidi Parkway, Lake Tiffanyport, WY 98271             | f9db9005-d2cc-4061-8834-efc4fbfea0b0\n",
      "9        | 2          | 1        | 4         | 2025-04-11 12:41:43 | 383.95 | completed | credit card    | 151 Monica Underpass Suite 618, Amymouth, NC 51817         | 817defd7-f24e-405c-abdc-e4a597a96729\n",
      "10       | 19         | 9        | 3         | 2025-04-11 12:41:43 | 64.11  | shipped   | credit card    | 46808 Ashley Gateway Apt. 673, Lake Michael, PA 63970      | 3912734c-a019-4c2c-bac2-e97007a52578\n",
      "11       | 7          | 1        | 2         | 2025-04-11 12:41:43 | 958.24 | cancelled | credit card    | 4094 Nichols Corners, West Kevinport, AS 29656             | 6eff8551-9805-41a7-8b91-8769a0ed1f58\n",
      "12       | 18         | 1        | 1         | 2025-04-11 12:41:43 | 416.08 | shipped   | bank transfer  | 066 Lynn Bridge, Gonzaleston, MH 32240                     | 1276024e-c74a-4db5-aefa-740708100096\n",
      "13       | 5          | 10       | 3         | 2025-04-11 12:41:43 | 971.79 | paid      | paypal         | 503 Catherine Via, Lake Laura, AL 22509                    | 1052635d-d06c-4eaa-a147-1ada26345b55\n",
      "14       | 9          | 7        | 2         | 2025-04-11 12:41:43 | 954.56 | cancelled | credit card    | 48585 Christopher Isle Suite 759, North Marktown, RI 98028 | fa69bbfe-b25c-4b1b-8de0-a5efe038ba7a\n",
      "15       | 8          | 1        | 4         | 2025-04-11 12:41:43 | 82.94  | completed | credit card    | 72111 Shah Green Apt. 426, Curtisstad, MP 22029            | 608f00a5-d15a-4f90-96bf-67724f45a396\n",
      "16       | 12         | 7        | 4         | 2025-04-11 12:41:43 | 125.59 | pending   | cash           | 40397 Ashley Lake, West Diane, PR 39161                    | 3ebeaabf-638d-4b38-84f1-6108b334b80e\n",
      "17       | 4          | 10       | 4         | 2025-04-11 12:41:43 | 309.62 | paid      | credit card    | 469 Reed Hill Apt. 888, Leefort, IA 20410                  | 5b73f354-6533-4476-92da-575c6167d532\n",
      "18       | 14         | 1        | 3         | 2025-04-11 12:41:43 | 88.26  | pending   | credit card    | 118 Lynn Pines, Hoffmanside, AS 60617                      | 9522ce67-3d94-48c0-b81d-517b713c5e0c\n",
      "19       | 4          | 9        | 2         | 2025-04-11 12:41:43 | 982.3  | cancelled | cash           | 21733 Mcdaniel Point, Port Ashley, WV 53469                | 587572b2-a266-4117-b6a2-ec257273c481\n",
      "20       | 19         | 8        | 5         | 2025-04-11 12:41:43 | 75.2   | shipped   | paypal         | 89899 Sierra Mountains, East Anthonymouth, MA 44335        | 44b7f895-73f9-440f-b0b5-c866064399e7\n"
     ]
    }
   ],
   "source": [
    "print_table_data('Order_')"
   ]
  },
  {
   "cell_type": "markdown",
   "id": "30c98f0a",
   "metadata": {},
   "source": [
    "## 创建消息(Message)表"
   ]
  },
  {
   "cell_type": "code",
   "execution_count": 19,
   "id": "a24c85eb",
   "metadata": {
    "tags": [
     "mono"
    ]
   },
   "outputs": [
    {
     "name": "stdout",
     "output_type": "stream",
     "text": [
      "\n",
      "Table Message's schema: \n",
      "Name        | Type    | Primary Key\n",
      "----------------------------\n",
      "message_id  | INTEGER | Yes\n",
      "sender_id   | INTEGER | No\n",
      "receiver_id | INTEGER | No\n",
      "product_id  | INTEGER | No\n",
      "content     | TEXT    | No\n",
      "send_time   | TEXT    | No\n",
      "is_read     | INTEGER | No\n"
     ]
    }
   ],
   "source": [
    "# 创建消息表 (Message)\n",
    "cursor.execute('''\n",
    "CREATE TABLE IF NOT EXISTS Message (\n",
    "    message_id INTEGER PRIMARY KEY AUTOINCREMENT,\n",
    "    sender_id INTEGER NOT NULL,\n",
    "    receiver_id INTEGER NOT NULL,\n",
    "    product_id INTEGER,\n",
    "    content TEXT NOT NULL,\n",
    "    send_time TEXT DEFAULT (datetime('now')),\n",
    "    is_read INTEGER DEFAULT 0,\n",
    "    FOREIGN KEY (sender_id) REFERENCES User(user_id) ON DELETE CASCADE,\n",
    "    FOREIGN KEY (receiver_id) REFERENCES User(user_id) ON DELETE CASCADE,\n",
    "    FOREIGN KEY (product_id) REFERENCES Product(product_id) ON DELETE SET NULL\n",
    ")\n",
    "''')\n",
    "print_table_schema('Message')"
   ]
  },
  {
   "cell_type": "code",
   "execution_count": 20,
   "id": "03d7a5f5",
   "metadata": {},
   "outputs": [
    {
     "name": "stdout",
     "output_type": "stream",
     "text": [
      "Table Message emptied successfully.\n"
     ]
    }
   ],
   "source": [
    "empty_table('Message')"
   ]
  },
  {
   "cell_type": "code",
   "execution_count": 21,
   "id": "8212f4e3",
   "metadata": {},
   "outputs": [],
   "source": [
    "for _ in range(20):\n",
    "    sender_id = random.randint(1, 10)  # 假设有10个用户作为发送者\n",
    "    receiver_id = random.randint(1, 10)  # 假设有10个用户作为接收者\n",
    "    product_id = random.randint(1, 20)  # 假设Product表有20个产品\n",
    "    content = fake.sentence(nb_words=15)  # 随机生成消息内容\n",
    "    send_time = fake.date_this_year().strftime('%Y-%m-%d %H:%M:%S')  # 消息发送时间\n",
    "    is_read = random.choice([0, 1])  # 随机设置消息是否已读 (0: 未读, 1: 已读)\n",
    "\n",
    "    cursor.execute('''\n",
    "        INSERT INTO Message (sender_id, receiver_id, product_id, content, send_time, is_read)\n",
    "        VALUES (?, ?, ?, ?, ?, ?)\n",
    "    ''', (sender_id, receiver_id, product_id, content, send_time, is_read))\n",
    "\n",
    "# 提交事务\n",
    "conn.commit()"
   ]
  },
  {
   "cell_type": "code",
   "execution_count": 22,
   "id": "5e078a7e",
   "metadata": {
    "tags": [
     "mono"
    ]
   },
   "outputs": [
    {
     "name": "stdout",
     "output_type": "stream",
     "text": [
      "\n",
      "Table: Message\n",
      "----------------------------------------------------------------------------------------------------------------------------------------------------------------------------------------------------------------------------------\n",
      "message_id | sender_id | receiver_id | product_id | content                                                                                                                                     | send_time           | is_read\n",
      "----------------------------------------------------------------------------------------------------------------------------------------------------------------------------------------------------------------------------------\n",
      "1          | 10        | 5           | 3          | Sit democratic guy phone you relate decade over back must office day set cold economic someone son leg.                                     | 2025-03-24 00:00:00 | 0      \n",
      "2          | 1         | 9           | 12         | Professor interesting outside land support newspaper international third happen may benefit moment.                                         | 2025-01-24 00:00:00 | 1      \n",
      "3          | 2         | 10          | 10         | Crime now page use remember place room require including one politics.                                                                      | 2025-03-01 00:00:00 | 0      \n",
      "4          | 6         | 1           | 11         | Behind loss number sister performance him church field majority area.                                                                       | 2025-02-06 00:00:00 | 1      \n",
      "5          | 4         | 9           | 2          | Computer training possible care gas little rule leader should bar social pressure before history walk kind section everyone maintain bring. | 2025-04-02 00:00:00 | 0      \n",
      "6          | 6         | 3           | 2          | A into within the least attack beat road lead thought author discussion sit mother experience position which measure test.                  | 2025-02-05 00:00:00 | 1      \n",
      "7          | 1         | 1           | 19         | Notice prepare agency point up despite become herself avoid two say.                                                                        | 2025-03-02 00:00:00 | 0      \n",
      "8          | 10        | 10          | 16         | Such trouble drive none task capital mouth mind herself though situation dream personal simple challenge community field.                   | 2025-02-08 00:00:00 | 0      \n",
      "9          | 4         | 8           | 14         | Forward book sense suddenly near school voice around would fight our capital your cup hope good seem nor.                                   | 2025-01-10 00:00:00 | 1      \n",
      "10         | 10        | 10          | 2          | Field wind color least party other firm might position new.                                                                                 | 2025-04-09 00:00:00 | 1      \n",
      "11         | 4         | 7           | 13         | Into standard statement fear they happy main authority available focus.                                                                     | 2025-02-14 00:00:00 | 0      \n",
      "12         | 5         | 5           | 11         | Past my just over while inside difference beautiful image oil cause cause human list.                                                       | 2025-03-26 00:00:00 | 0      \n",
      "13         | 4         | 5           | 18         | Including course perhaps painting thought them wonder fund oil.                                                                             | 2025-02-13 00:00:00 | 0      \n",
      "14         | 7         | 8           | 9          | Letter modern position hard manage almost take foreign cold day.                                                                            | 2025-02-07 00:00:00 | 0      \n",
      "15         | 3         | 8           | 17         | Image himself fine prepare drop everything offer interest manager professional simple yet series language be every debate particular.       | 2025-02-05 00:00:00 | 1      \n",
      "16         | 8         | 8           | 2          | Thousand think impact top still seek tend nearly maybe sign at.                                                                             | 2025-02-17 00:00:00 | 0      \n",
      "17         | 2         | 2           | 13         | Simply more service attention special girl contain miss form someone this you those should.                                                 | 2025-03-12 00:00:00 | 1      \n",
      "18         | 9         | 4           | 19         | Get knowledge former business safe much recently than computer development sit spend new south girl sing.                                   | 2025-03-27 00:00:00 | 0      \n",
      "19         | 3         | 1           | 12         | Painting care whose establish though entire itself situation man decade sit throughout discuss follow.                                      | 2025-02-10 00:00:00 | 0      \n",
      "20         | 3         | 1           | 19         | Eight big PM focus get price place approach nation sit decide example shake listen whole.                                                   | 2025-03-27 00:00:00 | 1      \n"
     ]
    }
   ],
   "source": [
    "print_table_data('Message')"
   ]
  },
  {
   "cell_type": "markdown",
   "id": "ae0120bf",
   "metadata": {},
   "source": [
    "## 创建收藏(Favorite)表\n",
    "说明：`UNIQUE (user_id, product_id)` 约束确保了同一个用户不能收藏同一件商品多次。"
   ]
  },
  {
   "cell_type": "code",
   "execution_count": 23,
   "id": "70ade075",
   "metadata": {
    "tags": [
     "mono"
    ]
   },
   "outputs": [
    {
     "name": "stdout",
     "output_type": "stream",
     "text": [
      "\n",
      "Table Favorite's schema: \n",
      "Name        | Type    | Primary Key\n",
      "----------------------------\n",
      "favorite_id | INTEGER | Yes\n",
      "user_id     | INTEGER | No\n",
      "product_id  | INTEGER | No\n",
      "add_date    | TEXT    | No\n"
     ]
    }
   ],
   "source": [
    "# 创建收藏表 (Favorite)\n",
    "cursor.execute('''\n",
    "CREATE TABLE IF NOT EXISTS Favorite (\n",
    "    favorite_id INTEGER PRIMARY KEY AUTOINCREMENT,\n",
    "    user_id INTEGER NOT NULL,\n",
    "    product_id INTEGER NOT NULL,\n",
    "    add_date TEXT DEFAULT (datetime('now')),\n",
    "    UNIQUE(user_id, product_id),\n",
    "    FOREIGN KEY (user_id) REFERENCES User(user_id) ON DELETE CASCADE,\n",
    "    FOREIGN KEY (product_id) REFERENCES Product(product_id) ON DELETE CASCADE\n",
    ")\n",
    "''')\n",
    "print_table_schema('Favorite')"
   ]
  },
  {
   "cell_type": "code",
   "execution_count": 24,
   "id": "80615108",
   "metadata": {},
   "outputs": [
    {
     "name": "stdout",
     "output_type": "stream",
     "text": [
      "Table Favorite emptied successfully.\n"
     ]
    }
   ],
   "source": [
    "empty_table('Favorite')"
   ]
  },
  {
   "cell_type": "code",
   "execution_count": 25,
   "id": "df073980",
   "metadata": {},
   "outputs": [],
   "source": [
    "for _ in range(20):\n",
    "    user_id = random.randint(1, 10)  # 假设有10个用户\n",
    "    product_id = random.randint(1, 20)  # 假设有20个商品\n",
    "    add_date = fake.date_this_year().strftime('%Y-%m-%d')  # 随机生成收藏日期\n",
    "\n",
    "    # 确保用户和商品的收藏组合唯一\n",
    "    cursor.execute('''\n",
    "        INSERT OR IGNORE INTO Favorite (user_id, product_id, add_date)\n",
    "        VALUES (?, ?, ?)\n",
    "    ''', (user_id, product_id, add_date))\n",
    "\n",
    "# 提交事务\n",
    "conn.commit()"
   ]
  },
  {
   "cell_type": "code",
   "execution_count": 26,
   "id": "72a62c26",
   "metadata": {
    "tags": [
     "mono"
    ]
   },
   "outputs": [
    {
     "name": "stdout",
     "output_type": "stream",
     "text": [
      "\n",
      "Table: Favorite\n",
      "--------------------------------------------------\n",
      "favorite_id | user_id | product_id | add_date  \n",
      "--------------------------------------------------\n",
      "1           | 2       | 7          | 2025-02-15\n",
      "2           | 2       | 10         | 2025-01-31\n",
      "3           | 1       | 12         | 2025-02-28\n",
      "4           | 7       | 16         | 2025-03-13\n",
      "5           | 8       | 17         | 2025-03-28\n",
      "6           | 10      | 10         | 2025-03-23\n",
      "7           | 4       | 18         | 2025-01-08\n",
      "8           | 4       | 4          | 2025-01-11\n",
      "9           | 2       | 19         | 2025-03-19\n",
      "10          | 9       | 18         | 2025-01-16\n",
      "11          | 6       | 6          | 2025-03-03\n",
      "12          | 8       | 6          | 2025-02-24\n",
      "13          | 10      | 17         | 2025-04-06\n",
      "14          | 6       | 18         | 2025-03-07\n",
      "15          | 3       | 9          | 2025-01-29\n",
      "16          | 4       | 13         | 2025-01-04\n",
      "17          | 4       | 3          | 2025-02-07\n",
      "18          | 10      | 19         | 2025-01-17\n",
      "19          | 7       | 2          | 2025-02-24\n",
      "20          | 7       | 18         | 2025-03-04\n"
     ]
    }
   ],
   "source": [
    "print_table_data('Favorite')"
   ]
  },
  {
   "cell_type": "code",
   "execution_count": 1,
   "id": "d14a2f10",
   "metadata": {},
   "outputs": [],
   "source": [
    "def add_user(username, password_hash, phone=None, email=None, credit_score=0):\n",
    "    cursor.execute('''\n",
    "    INSERT INTO User (username, password_hash, phone, email, credit_score)\n",
    "    VALUES (?, ?, ?, ?, ?)\n",
    "    ''', (username, password_hash, phone, email, credit_score))\n",
    "    conn.commit()\n",
    "    return cursor.lastrowid\n",
    "\n",
    "def get_user(user_id=None, username=None, phone=None, email=None):\n",
    "    query = 'SELECT * FROM User WHERE '\n",
    "    conditions = []\n",
    "    params = []\n",
    "    \n",
    "    if user_id:\n",
    "        conditions.append('user_id = ?')\n",
    "        params.append(user_id)\n",
    "    if username:\n",
    "        conditions.append('username = ?')\n",
    "        params.append(username)\n",
    "    if phone:\n",
    "        conditions.append('phone = ?')\n",
    "        params.append(phone)\n",
    "    if email:\n",
    "        conditions.append('email = ?')\n",
    "        params.append(email)\n",
    "    \n",
    "    if not conditions:\n",
    "        return None\n",
    "    \n",
    "    query += ' AND '.join(conditions)\n",
    "    cursor.execute(query, params)\n",
    "    return cursor.fetchone()\n",
    "\n",
    "def update_user(user_id, username=None, password_hash=None, phone=None, email=None, credit_score=None):\n",
    "    updates = []\n",
    "    params = []\n",
    "    \n",
    "    if username:\n",
    "        updates.append('username = ?')\n",
    "        params.append(username)\n",
    "    if password_hash:\n",
    "        updates.append('password_hash = ?')\n",
    "        params.append(password_hash)\n",
    "    if phone:\n",
    "        updates.append('phone = ?')\n",
    "        params.append(phone)\n",
    "    if email:\n",
    "        updates.append('email = ?')\n",
    "        params.append(email)\n",
    "    if credit_score is not None:\n",
    "        updates.append('credit_score = ?')\n",
    "        params.append(credit_score)\n",
    "    \n",
    "    if not updates:\n",
    "        return False\n",
    "    \n",
    "    params.append(user_id)\n",
    "    query = 'UPDATE User SET ' + ', '.join(updates) + ' WHERE user_id = ?'\n",
    "    cursor.execute(query, params)\n",
    "    conn.commit()\n",
    "    return cursor.rowcount > 0\n",
    "\n",
    "def delete_user(user_id):\n",
    "    cursor.execute('DELETE FROM User WHERE user_id = ?', (user_id,))\n",
    "    conn.commit()\n",
    "    return cursor.rowcount > 0"
   ]
  },
  {
   "cell_type": "code",
   "execution_count": 4,
   "id": "9b426632",
   "metadata": {},
   "outputs": [
    {
     "name": "stdout",
     "output_type": "stream",
     "text": [
      "Added users with IDs: 1, 2\n",
      "User1: (1, 'john_doe', 'hashed_password123', '1234567890', 'john@example.com', 0, '2025-04-12 07:56:45', None, 'active')\n",
      "User by phone: (1, 'john_doe', 'hashed_password123', '1234567890', 'john@example.com', 0, '2025-04-12 07:56:45', None, 'active')\n",
      "Update successful: True\n",
      "Updated user: (1, 'john_doe', 'hashed_password123', '1234567890', 'john.doe@newexample.com', 75, '2025-04-12 07:56:45', None, 'active')\n",
      "Delete successful: True\n"
     ]
    }
   ],
   "source": [
    "# 添加用户\n",
    "user1_id = add_user('john_doe', 'hashed_password123', '1234567890', 'john@example.com')\n",
    "user2_id = add_user('jane_smith', 'hashed_password456', '0987654321', 'jane@example.com', 50)\n",
    "print(f\"Added users with IDs: {user1_id}, {user2_id}\")\n",
    "\n",
    "# 查询用户\n",
    "user1 = get_user(user_id=user1_id)\n",
    "user_by_phone = get_user(phone='1234567890')\n",
    "print(\"User1:\", user1)\n",
    "print(\"User by phone:\", user_by_phone)\n",
    "\n",
    "# 更新用户\n",
    "update_success = update_user(user1_id, email='john.doe@newexample.com', credit_score=75)\n",
    "print(f\"Update successful: {update_success}\")\n",
    "updated_user = get_user(user_id=user1_id)\n",
    "print(\"Updated user:\", updated_user)\n",
    "\n",
    "# 删除用户\n",
    "delete_success = delete_user(user2_id)\n",
    "print(f\"Delete successful: {delete_success}\")"
   ]
  },
  {
   "cell_type": "code",
   "execution_count": 6,
   "id": "8d6c3b71",
   "metadata": {},
   "outputs": [],
   "source": [
    "def add_product(seller_id, title, description, price, original_price=None, \n",
    "                condition=None, location=None):\n",
    "    cursor.execute('''\n",
    "    INSERT INTO Product (seller_id, title, description, price, original_price, condition, location)\n",
    "    VALUES (?, ?, ?, ?, ?, ?, ?)\n",
    "    ''', (seller_id, title, description, price, original_price, condition, location))\n",
    "    conn.commit()\n",
    "    return cursor.lastrowid\n",
    "\n",
    "def get_products(product_id=None, seller_id=None, title=None, condition=None, status=None, min_price=None, max_price=None):\n",
    "    query = 'SELECT * FROM Product WHERE '\n",
    "    conditions = []\n",
    "    params = []\n",
    "    \n",
    "    if product_id:\n",
    "        conditions.append('product_id = ?')\n",
    "        params.append(product_id)\n",
    "    if seller_id:\n",
    "        conditions.append('seller_id = ?')\n",
    "        params.append(seller_id)\n",
    "    if title:\n",
    "        conditions.append('title LIKE ?')\n",
    "        params.append(f'%{title}%')\n",
    "    if condition:\n",
    "        conditions.append('condition = ?')\n",
    "        params.append(condition)\n",
    "    if status:\n",
    "        conditions.append('status = ?')\n",
    "        params.append(status)\n",
    "    if min_price:\n",
    "        conditions.append('price >= ?')\n",
    "        params.append(min_price)\n",
    "    if max_price:\n",
    "        conditions.append('price <= ?')\n",
    "        params.append(max_price)\n",
    "    \n",
    "    if not conditions:\n",
    "        query = 'SELECT * FROM Product'\n",
    "    else:\n",
    "        query += ' AND '.join(conditions)\n",
    "    \n",
    "    cursor.execute(query, params)\n",
    "    return cursor.fetchall()\n",
    "\n",
    "def update_product(product_id, title=None, description=None, price=None, \n",
    "                   original_price=None, condition=None, location=None, status=None):\n",
    "    updates = []\n",
    "    params = []\n",
    "    \n",
    "    if title:\n",
    "        updates.append('title = ?')\n",
    "        params.append(title)\n",
    "    if description:\n",
    "        updates.append('description = ?')\n",
    "        params.append(description)\n",
    "    if price:\n",
    "        updates.append('price = ?')\n",
    "        params.append(price)\n",
    "    if original_price:\n",
    "        updates.append('original_price = ?')\n",
    "        params.append(original_price)\n",
    "    if condition:\n",
    "        updates.append('condition = ?')\n",
    "        params.append(condition)\n",
    "    if location:\n",
    "        updates.append('location = ?')\n",
    "        params.append(location)\n",
    "    if status:\n",
    "        updates.append('status = ?')\n",
    "        params.append(status)\n",
    "    \n",
    "    if not updates:\n",
    "        return False\n",
    "    \n",
    "    params.append(product_id)\n",
    "    query = 'UPDATE Product SET ' + ', '.join(updates) + ' WHERE product_id = ?'\n",
    "    cursor.execute(query, params)\n",
    "    conn.commit()\n",
    "    return cursor.rowcount > 0\n",
    "\n",
    "def delete_product(product_id):\n",
    "    cursor.execute('DELETE FROM Product WHERE product_id = ?', (product_id,))\n",
    "    conn.commit()\n",
    "    return cursor.rowcount > 0"
   ]
  },
  {
   "cell_type": "code",
   "execution_count": 7,
   "id": "903b4a59",
   "metadata": {},
   "outputs": [
    {
     "name": "stdout",
     "output_type": "stream",
     "text": [
      "Added products with IDs: 1, 2\n",
      "All products by seller: [(1, 1, 'iPhone 12', 'Like new iPhone 12, 128GB', 599.99, 799.99, 'like new', 'New York', '2025-04-12 07:57:45', 'available', 0, 0), (2, 1, 'MacBook Pro', '2020 MacBook Pro 13\"', 999.99, 1299.99, 'good', 'New York', '2025-04-12 07:57:45', 'available', 0, 0)]\n",
      "Expensive products: [(2, 1, 'MacBook Pro', '2020 MacBook Pro 13\"', 999.99, 1299.99, 'good', 'New York', '2025-04-12 07:57:45', 'available', 0, 0)]\n",
      "Update successful: True\n",
      "Updated product: [(1, 1, 'iPhone 12', 'Like new iPhone 12, 128GB', 549.99, 799.99, 'like new', 'New York', '2025-04-12 07:57:45', 'reserved', 0, 0)]\n",
      "Delete successful: True\n"
     ]
    }
   ],
   "source": [
    "# 添加产品\n",
    "product1_id = add_product(user1_id, 'iPhone 12', 'Like new iPhone 12, 128GB', 599.99, 799.99, 'like new', 'New York')\n",
    "product2_id = add_product(user1_id, 'MacBook Pro', '2020 MacBook Pro 13\"', 999.99, 1299.99, 'good', 'New York')\n",
    "print(f\"Added products with IDs: {product1_id}, {product2_id}\")\n",
    "\n",
    "# 查询产品\n",
    "products = get_products(seller_id=user1_id)\n",
    "print(\"All products by seller:\", products)\n",
    "expensive_products = get_products(min_price=800)\n",
    "print(\"Expensive products:\", expensive_products)\n",
    "\n",
    "# 更新产品\n",
    "update_success = update_product(product1_id, price=549.99, status='reserved')\n",
    "print(f\"Update successful: {update_success}\")\n",
    "updated_product = get_products(product_id=product1_id)\n",
    "print(\"Updated product:\", updated_product)\n",
    "\n",
    "# 删除产品\n",
    "delete_success = delete_product(product2_id)\n",
    "print(f\"Delete successful: {delete_success}\")"
   ]
  },
  {
   "cell_type": "code",
   "execution_count": 8,
   "id": "ec4c1dac",
   "metadata": {},
   "outputs": [],
   "source": [
    "def create_order(product_id, buyer_id, seller_id, price, payment_method=None, shipping_address=None):\n",
    "    cursor.execute('''\n",
    "    INSERT INTO Order_ (product_id, buyer_id, seller_id, price, payment_method, shipping_address)\n",
    "    VALUES (?, ?, ?, ?, ?, ?)\n",
    "    ''', (product_id, buyer_id, seller_id, price, payment_method, shipping_address))\n",
    "    conn.commit()\n",
    "    return cursor.lastrowid\n",
    "\n",
    "def get_orders(order_id=None, buyer_id=None, seller_id=None, product_id=None, status=None):\n",
    "    query = 'SELECT * FROM Order_ WHERE '\n",
    "    conditions = []\n",
    "    params = []\n",
    "    \n",
    "    if order_id:\n",
    "        conditions.append('order_id = ?')\n",
    "        params.append(order_id)\n",
    "    if buyer_id:\n",
    "        conditions.append('buyer_id = ?')\n",
    "        params.append(buyer_id)\n",
    "    if seller_id:\n",
    "        conditions.append('seller_id = ?')\n",
    "        params.append(seller_id)\n",
    "    if product_id:\n",
    "        conditions.append('product_id = ?')\n",
    "        params.append(product_id)\n",
    "    if status:\n",
    "        conditions.append('status = ?')\n",
    "        params.append(status)\n",
    "    \n",
    "    if not conditions:\n",
    "        query = 'SELECT * FROM Order_'\n",
    "    else:\n",
    "        query += ' AND '.join(conditions)\n",
    "    \n",
    "    cursor.execute(query, params)\n",
    "    return cursor.fetchall()\n",
    "\n",
    "def update_order(order_id, status=None, payment_method=None, shipping_address=None, tracking_number=None):\n",
    "    updates = []\n",
    "    params = []\n",
    "    \n",
    "    if status:\n",
    "        updates.append('status = ?')\n",
    "        params.append(status)\n",
    "    if payment_method:\n",
    "        updates.append('payment_method = ?')\n",
    "        params.append(payment_method)\n",
    "    if shipping_address:\n",
    "        updates.append('shipping_address = ?')\n",
    "        params.append(shipping_address)\n",
    "    if tracking_number:\n",
    "        updates.append('tracking_number = ?')\n",
    "        params.append(tracking_number)\n",
    "    \n",
    "    if not updates:\n",
    "        return False\n",
    "    \n",
    "    params.append(order_id)\n",
    "    query = 'UPDATE Order_ SET ' + ', '.join(updates) + ' WHERE order_id = ?'\n",
    "    cursor.execute(query, params)\n",
    "    conn.commit()\n",
    "    return cursor.rowcount > 0\n",
    "\n",
    "\n",
    "def delete_order(order_id):\n",
    "    cursor.execute('DELETE FROM Order_ WHERE order_id = ?', (order_id,))\n",
    "    conn.commit()\n",
    "    return cursor.rowcount > 0"
   ]
  },
  {
   "cell_type": "code",
   "execution_count": 9,
   "id": "4bd4f47c",
   "metadata": {},
   "outputs": [
    {
     "name": "stdout",
     "output_type": "stream",
     "text": [
      "Created order with ID: 1\n",
      "Orders by buyer: [(1, 1, 3, 1, '2025-04-12 07:58:30', 549.99, 'pending', 'credit_card', '123 Main St, Anytown', None)]\n",
      "Update successful: True\n",
      "Updated order: [(1, 1, 3, 1, '2025-04-12 07:58:30', 549.99, 'paid', 'credit_card', '123 Main St, Anytown', 'USPS123456789')]\n",
      "Delete successful: True\n"
     ]
    }
   ],
   "source": [
    "# 添加另一个用户用于购买\n",
    "buyer_id = add_user('buyer_user', 'hashed_password789', '5551234567', 'buyer@example.com')\n",
    "\n",
    "# 创建订单\n",
    "order1_id = create_order(product1_id, buyer_id, user1_id, 549.99, 'credit_card', '123 Main St, Anytown')\n",
    "print(f\"Created order with ID: {order1_id}\")\n",
    "\n",
    "# 查询订单\n",
    "orders = get_orders(buyer_id=buyer_id)\n",
    "print(\"Orders by buyer:\", orders)\n",
    "\n",
    "# 更新订单\n",
    "update_success = update_order(order1_id, status='paid', tracking_number='USPS123456789')\n",
    "print(f\"Update successful: {update_success}\")\n",
    "updated_order = get_orders(order_id=order1_id)\n",
    "print(\"Updated order:\", updated_order)\n",
    "\n",
    "# 删除订单\n",
    "delete_success = delete_order(order1_id)\n",
    "print(f\"Delete successful: {delete_success}\")"
   ]
  }
 ],
 "metadata": {
  "kernelspec": {
   "display_name": "Python 3",
   "language": "python",
   "name": "python3"
  },
  "language_info": {
   "codemirror_mode": {
    "name": "ipython",
    "version": 3
   },
   "file_extension": ".py",
   "mimetype": "text/x-python",
   "name": "python",
   "nbconvert_exporter": "python",
   "pygments_lexer": "ipython3",
   "version": "3.12.9"
  }
 },
 "nbformat": 4,
 "nbformat_minor": 5
}
